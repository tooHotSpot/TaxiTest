{
 "cells": [
  {
   "cell_type": "markdown",
   "metadata": {},
   "source": [
    "# INITIALIIZATION AND BASIC FUNCTIONS FOR ALL TABLES"
   ]
  },
  {
   "cell_type": "code",
   "execution_count": 12,
   "metadata": {},
   "outputs": [
    {
     "name": "stdout",
     "output_type": "stream",
     "text": [
      "Total number of databases: 7\n",
      "('information_schema',)\n",
      "('mysql',)\n",
      "('performance_schema',)\n",
      "('sakila',)\n",
      "('sys',)\n",
      "('taxitest',)\n",
      "('world',)\n"
     ]
    }
   ],
   "source": [
    "import os\n",
    "import numpy as np\n",
    "import codecs\n",
    "import json\n",
    "import string\n",
    "import random\n",
    "import itertools\n",
    "from datetime import datetime, date, timedelta\n",
    "import mysql.connector\n",
    "from mysql.connector import errorcode\n",
    "\n",
    "DB_NAME = \"TaxiTest\"\n",
    "config = {\n",
    "        'user': 'root',\n",
    "        'password': '9090',\n",
    "        'host': '127.0.0.1',\n",
    "        'database': 'taxitest',\n",
    "        'raise_on_warnings': True,\n",
    "        'use_pure': False\n",
    "}\n",
    "\n",
    "def get_table_review(table, only_columns_names = False):\n",
    "    print(table)\n",
    "    print(\"Field, Type, Null, Key, Default, Extra\\n\")\n",
    "    columns_names = []\n",
    "\n",
    "    q = \"DESCRIBE \" + table\n",
    "    cursor.execute(q)\n",
    "    columns_attributes = cursor.fetchall()\n",
    "    for column_attributes_tuple in columns_attributes:\n",
    "        column_attributes = list(column_attributes_tuple)\n",
    "        column_attributes[1] = str(column_attributes[1])[2:-1]\n",
    "        columns_names.append(column_attributes[0])\n",
    "        if not only_columns_names:\n",
    "            print(', '.join([str(a) for a in column_attributes]))\n",
    "    \n",
    "    joined = ', '.join(columns_names)\n",
    "    joined_values = ', '.join('%s' for c in columns_names)\n",
    "    print(\"\\nColumns: (\", joined, \")\")\n",
    "    insert_string = \"query = \\\"INSERT INTO %s (%s) VALUES (%s)\\\"\" % (table, joined, joined_values)\n",
    "    print(insert_string)\n",
    "    \n",
    "def count_rows(table):\n",
    "    q = \"SELECT COUNT(*) FROM \" + table\n",
    "    cursor.execute(q)\n",
    "    log = cursor.fetchall()\n",
    "    print(\"Total number of rows %s: %s.\" % (table, log))\n",
    "    return int(log[0][0])\n",
    "\n",
    "def delete_all_rows(table):\n",
    "    q = \"DELETE FROM \" + table\n",
    "    cursor.execute(q) \n",
    "    \n",
    "def select_rows(q, table=None):\n",
    "    cursor.execute(q)\n",
    "    return cursor.fetchall()\n",
    "\n",
    "def insert_many_rows(q, data, table=None):\n",
    "    try:\n",
    "        cursor.executemany(q, data)\n",
    "        log = cursor.fetchall()\n",
    "        print(\"Result: \" + log)\n",
    "    except mysql.connector.Error as err:\n",
    "        print(err.msg)\n",
    "\n",
    "\n",
    "\n",
    "cnx = mysql.connector.connect(**config)\n",
    "cnx.autocommit = True\n",
    "cursor = cnx.cursor()\n",
    "\n",
    "query = \"SHOW DATABASES\"\n",
    "cursor.execute(query)\n",
    "rows = cursor.fetchall()\n",
    "print(\"Total number of databases:\", cursor.rowcount)\n",
    "for row in rows:\n",
    "    print(row)"
   ]
  },
  {
   "cell_type": "code",
   "execution_count": 18,
   "metadata": {
    "scrolled": true
   },
   "outputs": [
    {
     "name": "stdout",
     "output_type": "stream",
     "text": [
      "Table: address\n",
      "Table: car\n",
      "Table: client\n",
      "Table: driver\n",
      "Table: insurance\n",
      "Table: insurancecompany\n",
      "Table: operator\n",
      "Table: order\n",
      "Table: payment\n",
      "Table: paymentservice\n",
      "Table: phonecall\n",
      "Table: taxi\n"
     ]
    }
   ],
   "source": [
    "# DESCRIBE taxitest.order;\n",
    "\n",
    "cursor.execute(\"USE \" + DB_NAME)\n",
    "cursor.execute(\"SHOW Tables\")\n",
    "tables = cursor.fetchall()\n",
    "\n",
    "\n",
    "for table in tables:\n",
    "    print(\"Table:\", str(table[0]))\n",
    "    #get_table_review(table[0])\n"
   ]
  },
  {
   "cell_type": "markdown",
   "metadata": {},
   "source": [
    "# Start"
   ]
  },
  {
   "cell_type": "markdown",
   "metadata": {},
   "source": [
    "## Table `insurancecompany`"
   ]
  },
  {
   "cell_type": "code",
   "execution_count": 13,
   "metadata": {},
   "outputs": [
    {
     "name": "stdout",
     "output_type": "stream",
     "text": [
      "TaxiTest.insurancecompany\n",
      "Field, Type, Null, Key, Default, Extra\n",
      "\n",
      "idInsuranceCompany, int(11), NO, PRI, None, \n",
      "Address, varchar(45), NO, , None, \n",
      "Phone, varchar(45), NO, , None, \n",
      "Mail, varchar(45), NO, , None, \n",
      "Name, varchar(45), NO, , None, \n",
      "\n",
      "Columns: ( idInsuranceCompany, Address, Phone, Mail, Name )\n",
      "query = \"INSERT INTO TaxiTest.insurancecompany (idInsuranceCompany, Address, Phone, Mail, Name) VALUES (%s, %s, %s, %s, %s)\"\n"
     ]
    }
   ],
   "source": [
    "table = DB_NAME + \".\" + \"insurancecompany\"\n",
    "get_table_review(table)"
   ]
  },
  {
   "cell_type": "code",
   "execution_count": 7,
   "metadata": {},
   "outputs": [
    {
     "name": "stdout",
     "output_type": "stream",
     "text": [
      "Total number of rows TaxiTest.insurancecompany: [(30,)].\n"
     ]
    },
    {
     "data": {
      "text/plain": [
       "30"
      ]
     },
     "execution_count": 7,
     "metadata": {},
     "output_type": "execute_result"
    }
   ],
   "source": [
    "count_rows(table)"
   ]
  },
  {
   "cell_type": "code",
   "execution_count": null,
   "metadata": {},
   "outputs": [],
   "source": [
    "delete_all_rows(table)"
   ]
  },
  {
   "cell_type": "code",
   "execution_count": null,
   "metadata": {},
   "outputs": [],
   "source": [
    "# Data generation\n",
    "\n",
    "with open('InsuranceCompanies/Companies.json') as f:\n",
    "    names = json.load(f)\n",
    "\n",
    "total_number = len(names)\n",
    "print(\"len(names): \", len(names))\n",
    "idInsuranceCompany = np.arange(total_number)\n",
    "\n",
    "with open('Streets.json') as f:\n",
    "    streets = json.load(f)\n",
    "    streets = np.random.choice(streets, total_number, replace=False)\n",
    "\n",
    "query = \"INSERT INTO insurancecompany (idInsuranceCompany, Address, Phone, Mail, Name) VALUES (%s, %s, %s, %s, %s)\"\n",
    "data = []\n",
    "\n",
    "for i in range(total_number):\n",
    "    idInsuranceCompany = i + 1\n",
    "    address = \"Kazan, \" + streets[i] + \", \" + str(np.random.randint(1, 200))\n",
    "    phone = '+7(843)' + '{:07}'.format(np.random.randint(0, 9999999))\n",
    "    name = names[i]\n",
    "    mail = name.lower().replace(\" \", \"\") + '@gmail.com'\n",
    "    data.append((idInsuranceCompany, address, phone, mail, name))\n",
    "\n",
    "print(\"Q: \", query)\n",
    "print(\"D: \", data[0])\n",
    "\n",
    "insert_many_rows(table, query, data)"
   ]
  },
  {
   "cell_type": "markdown",
   "metadata": {},
   "source": [
    "## Table `insurance`"
   ]
  },
  {
   "cell_type": "markdown",
   "metadata": {},
   "source": [
    "*** Changes ***\n",
    "~~~~python\n",
    "# Modify type\n",
    "cursor.execute(\"ALTER TABLE \" + table + \" MODIFY InsuranceStartDate DATE\")\n",
    "cursor.execute(\"ALTER TABLE \" + table + \" MODIFY InsuranceEndDate DATE\")\n",
    "\n",
    "# Change order\n",
    "cursor.execute(\"ALTER TABLE \" + table + \" CHANGE COLUMN InsuranceEndDate InsuranceEndDate Date AFTER InsuranceStartDate\")\n",
    "~~~~"
   ]
  },
  {
   "cell_type": "code",
   "execution_count": null,
   "metadata": {},
   "outputs": [],
   "source": [
    "# Getting InsuranceCompanies list and saving in json \n",
    "file = \"InsuranceCompanies\\Companies.txt\"\n",
    "\n",
    "names = []\n",
    "with codecs.open(file, 'r', encoding='utf-8') as f:\n",
    "    for line in f:\n",
    "        names.append(line[:-2])\n",
    "        \n",
    "with open('InsuranceCompanies\\Companies.json', 'w') as outfile:\n",
    "    json.dump(names, outfile)"
   ]
  },
  {
   "cell_type": "code",
   "execution_count": 14,
   "metadata": {},
   "outputs": [
    {
     "name": "stdout",
     "output_type": "stream",
     "text": [
      "TaxiTest.insurance\n",
      "Field, Type, Null, Key, Default, Extra\n",
      "\n",
      "idInsurance, int(11), NO, PRI, None, \n",
      "InsCompany_idInsCompany, int(11), NO, MUL, None, \n",
      "InsuranceStartDate, date, YES, , None, \n",
      "InsuranceEndDate, date, YES, , None, \n",
      "\n",
      "Columns: ( idInsurance, InsCompany_idInsCompany, InsuranceStartDate, InsuranceEndDate )\n",
      "query = \"INSERT INTO TaxiTest.insurance (idInsurance, InsCompany_idInsCompany, InsuranceStartDate, InsuranceEndDate) VALUES (%s, %s, %s, %s)\"\n"
     ]
    }
   ],
   "source": [
    "table = DB_NAME + \".\" + \"insurance\"\n",
    "get_table_review(table)"
   ]
  },
  {
   "cell_type": "code",
   "execution_count": 16,
   "metadata": {},
   "outputs": [
    {
     "name": "stdout",
     "output_type": "stream",
     "text": [
      "Total number of rows  [(100,)]\n"
     ]
    },
    {
     "data": {
      "text/plain": [
       "100"
      ]
     },
     "execution_count": 16,
     "metadata": {},
     "output_type": "execute_result"
    }
   ],
   "source": [
    "count_rows(table)"
   ]
  },
  {
   "cell_type": "code",
   "execution_count": null,
   "metadata": {},
   "outputs": [],
   "source": [
    "delete_all_rows(table)"
   ]
  },
  {
   "cell_type": "code",
   "execution_count": null,
   "metadata": {},
   "outputs": [],
   "source": [
    "# Data generation\n",
    "\n",
    "query = \"INSERT INTO TaxiTest.insurance (idInsurance, InsCompany_idInsCompany, InsuranceEndDate, InsuranceStartDate) VALUES (%s , %s , %s , %s )\"\n",
    "data = []\n",
    "\n",
    "total_number = 100\n",
    "\n",
    "for i in range(total_number):\n",
    "    idInsurance = i + 1 \n",
    "    InsCompany_idInsCompany = np.random.randint(1, 30)\n",
    "    InsuranceStartDate = date(2014 + np.random.randint(-3, 3), np.random.randint(1, 10), np.random.randint(1, 25))\n",
    "    InsuranceEndDate = InsuranceStartDate + timedelta(days=25*int(np.random.choice(np.array([6, 8, 12]))))\n",
    "    data.append((idInsurance, InsCompany_idInsCompany, InsuranceStartDate, InsuranceEndDate))\n",
    "    #print(data[i])\n",
    "    \n",
    "print(\"Q: \", query)\n",
    "print(\"D: \", data[0])\n",
    "\n",
    "insert_many_rows(table, query, data)"
   ]
  },
  {
   "cell_type": "markdown",
   "metadata": {},
   "source": [
    "## Table `car`"
   ]
  },
  {
   "cell_type": "markdown",
   "metadata": {},
   "source": [
    "*** Changes ***\n",
    "~~~~python\n",
    "# Modify type\n",
    "cursor.execute(\"ALTER TABLE \" + table + \" MODIFY ChildSeat INT\")\n",
    "~~~~\n"
   ]
  },
  {
   "cell_type": "code",
   "execution_count": null,
   "metadata": {},
   "outputs": [],
   "source": [
    "# Load the data from stored text file\n",
    "# 1. Make json file\n",
    "file = \"Car/MarkModel.txt\"\n",
    "cars = set()\n",
    "with codecs.open(file, 'r', encoding='utf-8') as f:\n",
    "    for line in f:\n",
    "        cars.add(line[:-2])\n",
    "\n",
    "# Choose unique\n",
    "cars = sorted(list(cars))\n",
    "with open('Car/Cars.json', 'w') as outfile:\n",
    "    json.dump(cars, outfile)\n"
   ]
  },
  {
   "cell_type": "code",
   "execution_count": 8,
   "metadata": {},
   "outputs": [
    {
     "name": "stdout",
     "output_type": "stream",
     "text": [
      "Reviewing  TaxiTest.car\n",
      "idCar, int(11), NO, PRI, None, \n",
      "Lisense, varchar(45), NO, , None, \n",
      "Mark, varchar(45), NO, , None, \n",
      "Model, varchar(45), NO, , None, \n",
      "Insurance_idInsurance, int(11), NO, MUL, None, \n",
      "ChildSeat, int(11), YES, , None, \n",
      "\n",
      "Columns: ( idCar, Lisense, Mark, Model, Insurance_idInsurance, ChildSeat )\n",
      "query = \"INSERT INTO TaxiTest.car (idCar, Lisense, Mark, Model, Insurance_idInsurance, ChildSeat) VALUES (%s, %s, %s, %s, %s, %s)\"\n",
      "Total number of rows  [(100,)]\n"
     ]
    },
    {
     "data": {
      "text/plain": [
       "100"
      ]
     },
     "execution_count": 8,
     "metadata": {},
     "output_type": "execute_result"
    }
   ],
   "source": [
    "table = DB_NAME + \".\" + \"car\"\n",
    "get_table_review(table)\n",
    "count_rows(table)"
   ]
  },
  {
   "cell_type": "code",
   "execution_count": null,
   "metadata": {},
   "outputs": [],
   "source": [
    "# Data generation\n",
    "query = \"INSERT INTO TaxiTest.car (idCar, Lisense, Mark, Model, Insurance_idInsurance, ChildSeat) VALUES (%s, %s, %s, %s, %s, %s)\"\n",
    "data = []\n",
    "\n",
    "total_number = 100\n",
    "# Get insurances (better in random order), we have 100 insurances -> total_number = 100 of cars available\n",
    "# Warning: np.arange(a) return from 0 to a - 1\n",
    "# Writing Insurance_idInsurance which doesn't exist in insurance is restricted - QUERY will not be executed\n",
    "insurances = np.arange(1, total_number + 1)\n",
    "np.random.shuffle(insurances)\n",
    "\n",
    "# Load cars\n",
    "with open(\"Car/Cars.json\") as f:\n",
    "    cars = json.load(f)\n",
    "\n",
    "# Generate UNIQUE car licenses\n",
    "licenses = set()\n",
    "alphanums = string.ascii_uppercase + string.digits\n",
    "while len(licenses) != 100:\n",
    "    licenses.add(''.join(random.choice(alphanums) for _ in range(7)))\n",
    "licenses = list(licenses)\n",
    "\n",
    "for i in range(total_number):\n",
    "    idCar = i + 1 \n",
    "    Lisense = licenses[i]\n",
    "    (Mark, Model) = np.random.choice(cars).split(' ')\n",
    "    # Failed processing format-parameters; Python 'int32' cannot be converted to a MySQL type\n",
    "    Insurance_idInsurance = int(insurances[i])\n",
    "    ChildSeat = int(np.random.choice([0, 1]))\n",
    "    data.append((idCar, Lisense, Mark, Model, Insurance_idInsurance, ChildSeat))\n",
    "    # print(data[i])\n",
    "    \n",
    "print(\"Q: \", query)\n",
    "print(\"D: \", data[0])\n",
    "\n",
    "#insert_many_rows(table, query, data)"
   ]
  },
  {
   "cell_type": "markdown",
   "metadata": {},
   "source": [
    "## Table `driver` "
   ]
  },
  {
   "cell_type": "markdown",
   "metadata": {},
   "source": [
    "*** Changes ***\n",
    "~~~~python\n",
    "# Add isWorking to check if driver working or not\n",
    "cursor.execute(\"ALTER TABLE \" + table + \" ADD COLUMN isWorking INT NOT NULL\")\n",
    "cursor.execute(\"ALTER TABLE \" + table + \" MODIFY COLUMN Name VARCHAR(45) NOT NULL\")\n",
    "~~~~"
   ]
  },
  {
   "cell_type": "code",
   "execution_count": 96,
   "metadata": {},
   "outputs": [
    {
     "name": "stdout",
     "output_type": "stream",
     "text": [
      "Reviewing  TaxiTest.driver\n",
      "idDriver, int(11), NO, PRI, None, \n",
      "Name, varchar(45), NO, , None, \n",
      "DriverLisence, varchar(45), NO, UNI, None, \n",
      "Phone, varchar(45), NO, UNI, None, \n",
      "isWorking, int(11), NO, , None, \n",
      "\n",
      "Columns: ( idDriver, Name, DriverLisence, Phone, isWorking )\n",
      "query = \"INSERT INTO TaxiTest.driver (idDriver, Name, DriverLisence, Phone, isWorking) VALUES (%s, %s, %s, %s, %s)\"\n",
      "Total number of rows TaxiTest.driver: [(75,)].\n"
     ]
    },
    {
     "data": {
      "text/plain": [
       "75"
      ]
     },
     "execution_count": 96,
     "metadata": {},
     "output_type": "execute_result"
    }
   ],
   "source": [
    "table = DB_NAME + '.' + 'driver' \n",
    "get_table_review(table)\n",
    "count_rows(table)"
   ]
  },
  {
   "cell_type": "code",
   "execution_count": 91,
   "metadata": {},
   "outputs": [],
   "source": [
    "delete_all_rows(table)"
   ]
  },
  {
   "cell_type": "code",
   "execution_count": 95,
   "metadata": {},
   "outputs": [
    {
     "name": "stdout",
     "output_type": "stream",
     "text": [
      "Q:  INSERT INTO TaxiTest.driver (idDriver, Name, DriverLisence, Phone, isWorking) VALUES (%s, %s, %s, %s, %s)\n",
      "D:  (1, 'Роберт Моисеев', 'GJUQZRR1063', '+7(296)5290592', 1)\n",
      "No result set to fetch from.\n"
     ]
    }
   ],
   "source": [
    "total_number = 75\n",
    "query = \"INSERT INTO TaxiTest.driver (idDriver, Name, DriverLisence, Phone, isWorking) VALUES (%s, %s, %s, %s, %s)\"\n",
    "\n",
    "# Get all possible names_surnames combinations\n",
    "all_names_surnames = []\n",
    "with codecs.open(\"AllCombinations.txt\", 'r', encoding='utf-8') as f:\n",
    "    for line in f:\n",
    "        all_names_surnames.append(line[:-2])\n",
    "\n",
    "# Generate UNIQUE driver licenses\n",
    "licenses = set()\n",
    "while len(licenses) != total_number:\n",
    "    part1 = ''.join(random.choice(string.ascii_uppercase) for _ in range(7))\n",
    "    part2 = ''.join(random.choice(string.digits) for _ in range(4))\n",
    "    licenses.add(part1 + part2)\n",
    "licenses = list(licenses)\n",
    "\n",
    "\n",
    "# Get names\n",
    "data = []\n",
    "names = list(np.random.choice(all_names_surnames, size=total_number))\n",
    "for i in range(total_number):\n",
    "    idDriver = i + 1\n",
    "    # Failed processing format-parameters; Python 'str_' cannot be converted to a MySQL type\n",
    "    Name = str(names[i])\n",
    "    DriverLisence = licenses[i]\n",
    "    Phone = '+7({}){:07}'.format(np.random.randint(50, 990), np.random.randint(0, 9999999))\n",
    "    isWorking = int(np.random.choice([0, 1], p=[0.15, 0.85]))\n",
    "    data.append((idDriver, Name, DriverLisence, Phone, isWorking))\n",
    "    \n",
    "print(\"Q: \", query)\n",
    "print(\"D: \", data[0])\n",
    "\n",
    "insert_many_rows(table, query, data)"
   ]
  },
  {
   "cell_type": "markdown",
   "metadata": {},
   "source": [
    "## Table `address`"
   ]
  },
  {
   "cell_type": "markdown",
   "metadata": {},
   "source": [
    "*** Changes ***\n",
    "~~~~python\n",
    "# Drop GeoPoint\n",
    "cursor.execute(\"ALTER TABLE \" + table + \" DROP COLUMN GeoPoint\")\n",
    "# Delete index on UNIQUE city\n",
    "cursor.execute(\"ALTER TABLE \" + table + \" DROP INDEX City_UNIQUE\")\n",
    "~~~~"
   ]
  },
  {
   "cell_type": "code",
   "execution_count": null,
   "metadata": {},
   "outputs": [],
   "source": [
    "table = DB_NAME + '.' + 'address' \n",
    "get_table_review(table)\n",
    "count_rows(table)"
   ]
  },
  {
   "cell_type": "code",
   "execution_count": null,
   "metadata": {},
   "outputs": [],
   "source": [
    "delete_all_rows(table)"
   ]
  },
  {
   "cell_type": "code",
   "execution_count": null,
   "metadata": {},
   "outputs": [],
   "source": [
    "total_number = 1000\n",
    "query = \"INSERT INTO TaxiTest.address (idAddress, City, Street, HouseNumber) VALUES (%s, %s, %s, %s)\"\n",
    "\n",
    "City = \"Kazan\"\n",
    "# Get all streets\n",
    "with open('Streets.json') as f:\n",
    "    streets = json.load(f)\n",
    "    streets = np.random.choice(streets, total_number, replace=False)\n",
    "\n",
    "# Get names\n",
    "data = []\n",
    "for i in range(total_number):\n",
    "    idAddress = i + 1\n",
    "    Street = str(streets[i])\n",
    "    HouseNumber = int(random.randint(1, 100))\n",
    "    data.append((idAddress, City, Street, HouseNumber))\n",
    "    \n",
    "print(\"Q: \", query)\n",
    "print(\"D: \", data[0])\n",
    "\n",
    "insert_many_rows(table, query, data)"
   ]
  },
  {
   "cell_type": "markdown",
   "metadata": {},
   "source": [
    "## Table `taxi`"
   ]
  },
  {
   "cell_type": "markdown",
   "metadata": {},
   "source": [
    "*** Changes ***\n",
    "~~~~python\n",
    "# Rename\n",
    "cursor.execute(\"ALTER TABLE \" + table + \" CHANGE LatUpdate LastUpdate DATETIME\")\n",
    "# Change datatatype in case Python won`t permit writing to TINYINT\n",
    "cursor.execute(\"ALTER TABLE \" + table + \" MODIFY COLUMN Available INT\")\n",
    "\n",
    "# Change to AUTO-INCREMENT\n",
    "cursor.execute(\"ALTER TABLE \" + table + \" MODIFY COLUMN idTaxi INT AUTO_INCREMENT NOT NULL\")\n",
    "~~~~\n",
    "*** Late: cannot change column 'idtaxi': used in a foreign key constraint 'fk_Order_Taxi' of table 'taxitest.order' ***"
   ]
  },
  {
   "cell_type": "code",
   "execution_count": null,
   "metadata": {},
   "outputs": [],
   "source": []
  },
  {
   "cell_type": "code",
   "execution_count": 133,
   "metadata": {},
   "outputs": [
    {
     "name": "stdout",
     "output_type": "stream",
     "text": [
      "Reviewing  TaxiTest.Driver\n",
      "\n",
      "Columns: ( idDriver, Name, DriverLisence, Phone, isWorking )\n",
      "query = \"INSERT INTO TaxiTest.Driver (idDriver, Name, DriverLisence, Phone, isWorking) VALUES (%s, %s, %s, %s, %s)\"\n",
      "Reviewing  TaxiTest.Car\n",
      "\n",
      "Columns: ( idCar, Lisense, Mark, Model, Insurance_idInsurance, ChildSeat )\n",
      "query = \"INSERT INTO TaxiTest.Car (idCar, Lisense, Mark, Model, Insurance_idInsurance, ChildSeat) VALUES (%s, %s, %s, %s, %s, %s)\"\n",
      "Total number of rows Address: [(1000,)].\n",
      "\n",
      "Reviewing  TaxiTest.Taxi\n",
      "idTaxi, int(11), NO, MUL, None, \n",
      "Driver_idDriver, int(11), NO, PRI, None, \n",
      "Car_idCar, int(11), NO, PRI, None, \n",
      "Current_idAddress, int(11), NO, MUL, None, \n",
      "Available, int(11), YES, , None, \n",
      "LastUpdate, datetime, YES, , None, \n",
      "\n",
      "Columns: ( idTaxi, Driver_idDriver, Car_idCar, Current_idAddress, Available, LastUpdate )\n",
      "query = \"INSERT INTO TaxiTest.Taxi (idTaxi, Driver_idDriver, Car_idCar, Current_idAddress, Available, LastUpdate) VALUES (%s, %s, %s, %s, %s, %s)\"\n",
      "Total number of rows TaxiTest.Taxi: [(0,)].\n"
     ]
    }
   ],
   "source": [
    "table = DB_NAME + '.' + 'Driver'\n",
    "get_table_review(table, True)\n",
    "table = DB_NAME + '.' + 'Car'\n",
    "get_table_review(table, True)\n",
    "\n",
    "table = \"Address\"\n",
    "address_rows_amount = count_rows(\"Address\")\n",
    "print(\"\")\n",
    "\n",
    "# Try to select values from tables\n",
    "table = DB_NAME + '.' + 'Taxi'\n",
    "get_table_review(table)\n",
    "address_rows_amount = count_rows(table)"
   ]
  },
  {
   "cell_type": "code",
   "execution_count": 141,
   "metadata": {},
   "outputs": [],
   "source": [
    "delete_all_rows(table)"
   ]
  },
  {
   "cell_type": "markdown",
   "metadata": {},
   "source": [
    "*** If driver is not working -> taxi is not available ***\n",
    "\n",
    "*** Taxi may be not available even if driver is not deleted *** "
   ]
  },
  {
   "cell_type": "code",
   "execution_count": 143,
   "metadata": {},
   "outputs": [
    {
     "name": "stdout",
     "output_type": "stream",
     "text": [
      "Total number of rows Address: [(1000,)].\n",
      "No result set to fetch from.\n"
     ]
    }
   ],
   "source": [
    "table = \"Taxi\"\n",
    "\n",
    "# Using Taxi table attributes order to create query.\n",
    "# INSERT INTO Taxi (idTaxi, Driver_idDriver, Car_idCar, Current_idAddress, Available, LatUpdate)\n",
    "address_rows_amount = count_rows(\"Address\")\n",
    "q = \"SELECT idDriver, isWorking, idCar, ROUND(1 + RAND() * %s) as Current_idAddress FROM Driver JOIN Car \" % (address_rows_amount - 1)\n",
    "\n",
    "total_amount = 500\n",
    "result = select_rows(table, q)\n",
    "\n",
    "taxi_combinations_set = np.arange(1, len(result))\n",
    "np.random.shuffle(taxi_combinations_set)                                  \n",
    "                                  \n",
    "q = \"INSERT INTO TaxiTest.Taxi (idTaxi, Driver_idDriver, Car_idCar, Current_idAddress, Available, LastUpdate) VALUES (%s, %s, %s, %s, %s, %s)\"\n",
    "data = []\n",
    "\n",
    "for i in range(total_amount):\n",
    "    row = result[taxi_combinations_set[i]]\n",
    "    isWorking = row[1]\n",
    "    LastUpdate = datetime.now() + timedelta(hours=np.random.randint(1, 12), minutes=np.random.randint(5, 60))\n",
    "    if isWorking == 0:\n",
    "        LastUpdate -= timedelta(days=np.random.randint(4, 90))\n",
    "    available = int(np.random.choice([0, 1], p=[0.4, 0.6]) if isWorking else 0)\n",
    "    # Order: (idTaxi, Driver_idDriver, Car_idCar, Current_idAddress, Available, LastUpdate)\n",
    "    data.append((i + 1, int(row[0]), int(row[2]), int(row[3]), available, LastUpdate))\n",
    "    #print(data[i])\n",
    "    \n",
    "insert_many_rows(table, q, data)"
   ]
  },
  {
   "cell_type": "markdown",
   "metadata": {},
   "source": [
    "## Table `Operator`"
   ]
  },
  {
   "cell_type": "code",
   "execution_count": 145,
   "metadata": {},
   "outputs": [
    {
     "name": "stdout",
     "output_type": "stream",
     "text": [
      "Reviewing  TaxiTest.operator\n",
      "idOperator, int(11), NO, PRI, None, \n",
      "Name, varchar(45), NO, , None, \n",
      "Phone, varchar(45), NO, UNI, None, \n",
      "Mail, varchar(45), NO, , None, \n",
      "\n",
      "Columns: ( idOperator, Name, Phone, Mail )\n",
      "query = \"INSERT INTO TaxiTest.operator (idOperator, Name, Phone, Mail) VALUES (%s, %s, %s, %s)\"\n",
      "Total number of rows TaxiTest.operator: [(0,)].\n"
     ]
    },
    {
     "data": {
      "text/plain": [
       "0"
      ]
     },
     "execution_count": 145,
     "metadata": {},
     "output_type": "execute_result"
    }
   ],
   "source": [
    "table = DB_NAME + '.' + 'operator' \n",
    "get_table_review(table)\n",
    "count_rows(table)"
   ]
  },
  {
   "cell_type": "code",
   "execution_count": null,
   "metadata": {},
   "outputs": [],
   "source": [
    "delete_all_rows(table)"
   ]
  },
  {
   "cell_type": "code",
   "execution_count": 156,
   "metadata": {},
   "outputs": [
    {
     "name": "stdout",
     "output_type": "stream",
     "text": [
      "Q:  INSERT INTO TaxiTest.operator (idOperator, Name, Phone, Mail) VALUES (%s, %s, %s, %s)\n",
      "D:  (1, 'Геннадий Игнатов', '+7(843)3240492', 'gennadij.ignatov@gmail.com')\n"
     ]
    }
   ],
   "source": [
    "total_number = 50\n",
    "query = \"INSERT INTO TaxiTest.operator (idOperator, Name, Phone, Mail) VALUES (%s, %s, %s, %s)\"\n",
    "\n",
    "# Get all possible names_surnames combinations\n",
    "names = []\n",
    "with codecs.open(\"AllCombinations.txt\", 'r', encoding='utf-8') as f:\n",
    "    for line in f:\n",
    "        names.append(line[:-2])\n",
    "\n",
    "names = np.random.choice(names, total_number)\n",
    "\n",
    "# Generate UNIQUE phones\n",
    "phones = set()\n",
    "while len(phones) != total_number:\n",
    "    phone = '+7(843)' + '{:07}'.format(np.random.randint(0, 9999999))\n",
    "    phones.add(phone)\n",
    "phones = list(phones)\n",
    "\n",
    "symbols = (u\"абвгдеёжзийклмнопрстуфхцчшщъыьэюяАБВГДЕЁЖЗИЙКЛМНОПРСТУФХЦЧШЩЪЫЬЭЮЯ\",\n",
    "           u\"abvgdeejzijklmnoprstufhzcss_y_euaABVGDEEJZIJKLMNOPRSTUFHZCSS_Y_EUA\")\n",
    "tr = {ord(a):ord(b) for a, b in zip(*symbols)}\n",
    "\n",
    "data = []\n",
    "for i in range(total_number):\n",
    "    idOperator = i + 1\n",
    "    name = names[i].replace(' ', '.')\n",
    "    mail = name.translate(tr).lower() + '@gmail.com'\n",
    "    data.append((idOperator, str(names[i]), str(phones[i]), str(mail)))\n",
    "    \n",
    "print(\"Q: \", query)\n",
    "print(\"D: \", data[0])\n",
    "\n",
    "# insert_many_rows(table, query, data)"
   ]
  },
  {
   "cell_type": "markdown",
   "metadata": {},
   "source": [
    "## Table `Client`"
   ]
  },
  {
   "cell_type": "markdown",
   "metadata": {},
   "source": [
    "*** Changes ***\n",
    "~~~~python\n",
    "cursor.execute(\"ALTER TABLE \" + table + \" CHANGE COLUMN Name Name VARCHAR(45) AFTER idClient\")\n",
    "~~~~"
   ]
  },
  {
   "cell_type": "code",
   "execution_count": 190,
   "metadata": {},
   "outputs": [
    {
     "name": "stdout",
     "output_type": "stream",
     "text": [
      "Reviewing  TaxiTest.client\n",
      "idClient, int(11), NO, PRI, None, auto_increment\n",
      "Name, varchar(45), YES, , None, \n",
      "Phone, varchar(45), NO, UNI, None, \n",
      "Password, varchar(45), NO, , None, \n",
      "\n",
      "Columns: ( idClient, Name, Phone, Password )\n",
      "query = \"INSERT INTO TaxiTest.client (idClient, Name, Phone, Password) VALUES (%s, %s, %s, %s)\"\n",
      "Total number of rows TaxiTest.client: [(0,)].\n"
     ]
    },
    {
     "data": {
      "text/plain": [
       "0"
      ]
     },
     "execution_count": 190,
     "metadata": {},
     "output_type": "execute_result"
    }
   ],
   "source": [
    "table = DB_NAME + '.' + 'client' \n",
    "get_table_review(table)\n",
    "count_rows(table)"
   ]
  },
  {
   "cell_type": "code",
   "execution_count": 189,
   "metadata": {},
   "outputs": [],
   "source": [
    "delete_all_rows(table)"
   ]
  },
  {
   "cell_type": "code",
   "execution_count": 191,
   "metadata": {},
   "outputs": [
    {
     "name": "stdout",
     "output_type": "stream",
     "text": [
      "Q:  INSERT INTO TaxiTest.client (idClient, Name, Phone, Password) VALUES (%s, %s, %s, %s)\n",
      "D:  (1, 'Геннадий Устинов', '+7(258)5810388', '3J49E1e')\n",
      "No result set to fetch from.\n"
     ]
    }
   ],
   "source": [
    "total_number = 5000\n",
    "query = \"INSERT INTO TaxiTest.client (idClient, Name, Phone, Password) VALUES (%s, %s, %s, %s)\"\n",
    "\n",
    "# Get all possible names_surnames combinations\n",
    "names = []\n",
    "with codecs.open(\"AllCombinations.txt\", 'r', encoding='utf-8') as f:\n",
    "    for line in f:\n",
    "        names.append(line[:-2])\n",
    "\n",
    "names = np.random.choice(names, total_number, replace=False)\n",
    "\n",
    "# Generate UNIQUE phones\n",
    "phones = set()\n",
    "while len(phones) != total_number:\n",
    "    phone = '+7({:03}){:07}'.format(np.random.randint(50, 990), np.random.randint(0, 9999999))\n",
    "    phones.add(phone)\n",
    "phones = list(phones)\n",
    "\n",
    "alphanums = string.ascii_letters + string.digits\n",
    "    \n",
    "data = []\n",
    "for i in range(total_number):\n",
    "    idClient = i + 1\n",
    "    password = ''.join(random.choice(alphanums) for _ in range(7))\n",
    "    data.append((idClient, str(names[i]), phones[i], password))\n",
    "    \n",
    "print(\"Q: \", query)\n",
    "print(\"D: \", data[0])\n",
    "\n",
    "# insert_many_rows(table, query, data)"
   ]
  },
  {
   "cell_type": "markdown",
   "metadata": {},
   "source": [
    "## Table `PhoneCall`"
   ]
  },
  {
   "cell_type": "markdown",
   "metadata": {},
   "source": [
    "*** Changes ***\n",
    "~~~~python\n",
    "# Unnset NOT NULL\n",
    "cursor.execute(\"ALTER TABLE \" + table + \" CHANGE COLUMN `Duration` `Duration` INT AFTER Datetime\")\n",
    "# Change Primary Key from (idOperator, idClient) to idCall\n",
    "cursor.execute(\"ALTER TABLE \" + table + \" DROP PRIMARY KEY, ADD PRIMARY KEY (idCall)\")\n",
    "\n",
    "# Rename to remove MySQL Errors\n",
    "cursor.execute(\"ALTER TABLE \" + table + \" CHANGE COLUMN `datetime` `datetimeValue` DATETIME\")\n",
    "# Rename because Call is a system word\n",
    "cursor.execute(\"ALTER TABLE \" + table + \" RENAME TO PhoneCall\")\n",
    "~~~~\n",
    "*** Change idCall to NOT AUTO-INCREMENT ***\n",
    "~~~~sql\n",
    "SHOW CREATE TABLE PhoneCall;\n",
    "ALTER TABLE `Order` DROP FOREIGN KEY fk_Order_Call;\n",
    "ALTER TABLE `PhoneCall` CHANGE COLUMN `idCall` `idCall` INT NOT NULL;\n",
    "# Adding PRIMARY KEY on idCall not needed in case it already exists \n",
    "\n",
    "# Return CONSTRAINT (Workbench): Used inital Create script to identify constraint and FK names.\n",
    "ALTER TABLE `Order` ADD CONSTRAINT fk_Order_Call FOREIGN KEY (`Call_idCall`) REFERENCES `PhoneCall`(`idCall`);\n",
    "\n",
    "# Check constraint\n",
    "SELECT TABLE_NAME,COLUMN_NAME,CONSTRAINT_NAME, REFERENCED_TABLE_NAME,REFERENCED_COLUMN_NAME\n",
    "FROM INFORMATION_SCHEMA.KEY_COLUMN_USAGE\n",
    "WHERE\n",
    "  REFERENCED_TABLE_SCHEMA = 'TaxiTest' AND\n",
    "  REFERENCED_TABLE_NAME = 'PhoneCall' AND\n",
    "  REFERENCED_COLUMN_NAME = 'idCall';\n",
    "\n",
    "~~~~\n",
    "*** Temporal change ***\n",
    "~~~~python\n",
    "cursor.execute(\"ALTER TABLE \" + table + \" CHANGE COLUMN `Datetime` `Datetime` Datetime AFTER Client_idClient\")\n",
    "~~~~\n",
    "*** Roollback (AFTER THE COMPLETING 'Order') ***\n",
    "~~~~python\n",
    "cursor.execute(\"ALTER TABLE \" + table + \" CHANGE COLUMN `Datetime` `Datetime` Datetime NOT NULL AFTER Client_idClient\")\n",
    "~~~~"
   ]
  },
  {
   "cell_type": "code",
   "execution_count": null,
   "metadata": {},
   "outputs": [],
   "source": []
  },
  {
   "cell_type": "code",
   "execution_count": 19,
   "metadata": {},
   "outputs": [
    {
     "name": "stdout",
     "output_type": "stream",
     "text": [
      "TaxiTest.PhoneCall\n",
      "Field, Type, Null, Key, Default, Extra\n",
      "\n",
      "idCall, int(11), NO, PRI, None, \n",
      "Operator_idOperator, int(11), NO, MUL, None, \n",
      "Client_idClient, int(11), NO, MUL, None, \n",
      "datetimeValue, datetime, YES, , None, \n",
      "Duration, int(11), YES, , None, \n",
      "\n",
      "Columns: ( idCall, Operator_idOperator, Client_idClient, datetimeValue, Duration )\n",
      "query = \"INSERT INTO TaxiTest.PhoneCall (idCall, Operator_idOperator, Client_idClient, datetimeValue, Duration) VALUES (%s, %s, %s, %s, %s)\"\n",
      "Total number of rows TaxiTest.PhoneCall: [(1500,)].\n"
     ]
    },
    {
     "data": {
      "text/plain": [
       "1500"
      ]
     },
     "execution_count": 19,
     "metadata": {},
     "output_type": "execute_result"
    }
   ],
   "source": [
    "table = DB_NAME + '.' + 'PhoneCall'\n",
    "get_table_review(table)\n",
    "count_rows(table)"
   ]
  },
  {
   "cell_type": "code",
   "execution_count": 48,
   "metadata": {},
   "outputs": [],
   "source": [
    "delete_all_rows(table)"
   ]
  },
  {
   "cell_type": "code",
   "execution_count": 32,
   "metadata": {},
   "outputs": [
    {
     "name": "stdout",
     "output_type": "stream",
     "text": [
      "Total number of rows Operator: [(50,)].\n",
      "Total number of rows Client: [(5000,)].\n",
      "Q:  INSERT INTO PhoneCall (idCall, Operator_idOperator, Client_idClient, datetimeValue, Duration) VALUES (%s, %s, %s, %s, %s)\n",
      "Q:  INSERT INTO PhoneCall (idCall, Operator_idOperator, Client_idClient, datetimeValue, Duration) VALUES (%s, %s, %s, %s, %s)\n",
      "D:  (1, 33, 2658, '2018-09-18 18:41:02', 107)\n",
      "You have an error in your SQL syntax; check the manual that corresponds to your MySQL server version for the right syntax to use near 'TaxiTest.PhoneCall' at line 1\n"
     ]
    }
   ],
   "source": [
    "'''\n",
    "query = \"SELECT idOperator, idClient FROM Operator JOIN Client\"\n",
    "result = select_rows(table, q)\n",
    "client_max_id * operators_max_id = len(result)\n",
    "'''\n",
    "# This query is hard, cause handles 5000 * 50 combinations -> \n",
    "# execute with sumpler queries (need only range of corresponding ids)\n",
    "\n",
    "operators_max_id = count_rows(\"Operator\")\n",
    "client_max_id = count_rows(\"Client\")\n",
    "\n",
    "total_amount = 1500\n",
    "all_combinations = list(itertools.product(np.arange(1, operators_max_id), np.arange(1, client_max_id)))\n",
    "np.random.shuffle(all_combinations)\n",
    "\n",
    "# Roolback on datetime then\n",
    "query = \"INSERT INTO PhoneCall (idCall, Operator_idOperator, Client_idClient, datetimeValue, Duration) VALUES (%s, %s, %s, %s, %s)\"\n",
    "data = []\n",
    "\n",
    "print(\"Q: \", query)\n",
    "for i in range(total_amount):\n",
    "    idCall = i + 1\n",
    "    (Operator_idOperator, Client_idClient) = all_combinations[i]\n",
    "    duration = int(np.random.randint(20, 120))\n",
    "    # Order: Operator_idOperator, Client_idClient, Duration  \n",
    "    datetime_value = datetime.now() - timedelta(minutes=np.random.randint(60, 120))\n",
    "    formatted_date = datetime_value.strftime('%Y-%m-%d %H:%M:%S')\n",
    "    data.append((idCall, Operator_idOperator, Client_idClient, formatted_date, duration))\n",
    "        \n",
    "print(\"Q: \", query)\n",
    "print(\"D: \", data[0])\n",
    "insert_many_rows(table, query, data)"
   ]
  },
  {
   "cell_type": "markdown",
   "metadata": {},
   "source": [
    "*** Solution: *** written to text file without datetime and inserted using MySQL Workbench. "
   ]
  },
  {
   "cell_type": "code",
   "execution_count": 41,
   "metadata": {},
   "outputs": [
    {
     "name": "stdout",
     "output_type": "stream",
     "text": [
      "INSERT INTO TaxiTest.PhoneCall (idCall, Operator_idOperator, Client_idClient, Duration) VALUE ,\n",
      "(1, 6, 846, 86) ,\n",
      "(2, 28, 4074, 92) ,\n",
      "(3, 16, 1930, 83) ,\n",
      "(4, 21, 611, 35) ,\n",
      "(5, 27, 4901, 45) ,\n",
      "(6, 4, 91, 51) ,\n",
      "(7, 4, 2663, 20) ,\n",
      "(8, 42, 1119, 93) ,\n",
      "(9, 14, 4372, 68) ,\n",
      "(10, 43, 699, 86) ,\n"
     ]
    }
   ],
   "source": [
    "i = 1\n",
    "with open('C:\\SQL\\PhoneCall - Insert 1500 row without datetimeValue.sql', 'r') as f:\n",
    "    for line in f:\n",
    "        print(line[:-3], \",\")\n",
    "        i += 1\n",
    "        if i == 12:\n",
    "            break    "
   ]
  },
  {
   "cell_type": "markdown",
   "metadata": {},
   "source": [
    "## Table `PaymentService`"
   ]
  },
  {
   "cell_type": "code",
   "execution_count": null,
   "metadata": {},
   "outputs": [],
   "source": []
  },
  {
   "cell_type": "code",
   "execution_count": null,
   "metadata": {},
   "outputs": [],
   "source": []
  },
  {
   "cell_type": "markdown",
   "metadata": {},
   "source": [
    "## Table `Payment`"
   ]
  },
  {
   "cell_type": "code",
   "execution_count": null,
   "metadata": {},
   "outputs": [],
   "source": []
  },
  {
   "cell_type": "code",
   "execution_count": null,
   "metadata": {},
   "outputs": [],
   "source": []
  },
  {
   "cell_type": "markdown",
   "metadata": {},
   "source": [
    "## Table `Order`"
   ]
  },
  {
   "cell_type": "code",
   "execution_count": null,
   "metadata": {},
   "outputs": [],
   "source": []
  },
  {
   "cell_type": "code",
   "execution_count": null,
   "metadata": {},
   "outputs": [],
   "source": []
  },
  {
   "cell_type": "markdown",
   "metadata": {},
   "source": [
    "*** Tasks remained: ***\n",
    "- Rollback of table Call"
   ]
  },
  {
   "cell_type": "code",
   "execution_count": null,
   "metadata": {},
   "outputs": [],
   "source": []
  },
  {
   "cell_type": "code",
   "execution_count": null,
   "metadata": {},
   "outputs": [],
   "source": [
    "cursor.close()\n",
    "cnx.close()"
   ]
  }
 ],
 "metadata": {
  "kernelspec": {
   "display_name": "Python 3",
   "language": "python",
   "name": "python3"
  },
  "language_info": {
   "codemirror_mode": {
    "name": "ipython",
    "version": 3
   },
   "file_extension": ".py",
   "mimetype": "text/x-python",
   "name": "python",
   "nbconvert_exporter": "python",
   "pygments_lexer": "ipython3",
   "version": "3.6.5"
  }
 },
 "nbformat": 4,
 "nbformat_minor": 2
}
