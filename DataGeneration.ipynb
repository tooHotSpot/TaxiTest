{
 "cells": [
  {
   "cell_type": "markdown",
   "metadata": {},
   "source": [
    "# Initialization and loading basic functions  "
   ]
  },
  {
   "cell_type": "code",
   "execution_count": 34,
   "metadata": {},
   "outputs": [
    {
     "name": "stdout",
     "output_type": "stream",
     "text": [
      "Total number of databases: 7\n",
      "('information_schema',)\n",
      "('mysql',)\n",
      "('performance_schema',)\n",
      "('sakila',)\n",
      "('sys',)\n",
      "('taxitest',)\n",
      "('world',)\n"
     ]
    }
   ],
   "source": [
    "import os\n",
    "import numpy as np\n",
    "import codecs\n",
    "import json\n",
    "import string\n",
    "import random\n",
    "import itertools\n",
    "from datetime import datetime, date, timedelta\n",
    "import mysql.connector\n",
    "from mysql.connector import errorcode\n",
    "\n",
    "DB_NAME = \"TaxiTest\"\n",
    "config = {\n",
    "        'user': 'root',\n",
    "        'password': '9090',\n",
    "        'host': '127.0.0.1',\n",
    "        'database': 'taxitest',\n",
    "        'raise_on_warnings': True,\n",
    "        'use_pure': False\n",
    "}\n",
    "\n",
    "def get_table_review(table, only_columns_names = False):\n",
    "    # print(table)\n",
    "    # print(\"Field, Type, Null, Key, Default, Extra\")\n",
    "    columns_names = []\n",
    "\n",
    "    q = \"DESCRIBE \" + table\n",
    "    cursor.execute(q)\n",
    "    columns_attributes = cursor.fetchall()\n",
    "    for column_attributes_tuple in columns_attributes:\n",
    "        column_attributes = list(column_attributes_tuple)\n",
    "        column_attributes[1] = str(column_attributes[1])[2:-1]\n",
    "        columns_names.append(column_attributes[0])\n",
    "        if not only_columns_names:\n",
    "            print(', '.join([str(a) for a in column_attributes]))\n",
    "    \n",
    "    joined = ', '.join(columns_names)\n",
    "    joined_values = ', '.join('%s' for c in columns_names)\n",
    "    print(\"Columns: (\", joined, \")\")\n",
    "    if not only_columns_names:\n",
    "        insert_string = \"query = \\\"INSERT INTO %s (%s) VALUES (%s)\\\"\" % (table, joined, joined_values)\n",
    "        print(insert_string)\n",
    "    \n",
    "def count_rows(table):\n",
    "    q = \"SELECT COUNT(*) FROM \" + table\n",
    "    cursor.execute(q)\n",
    "    log = cursor.fetchall()\n",
    "    print(\"Total number of rows %s: %s.\" % (table, log))\n",
    "    return int(log[0][0])\n",
    "\n",
    "def delete_all_rows(table):\n",
    "    q = \"DELETE FROM \" + table\n",
    "    cursor.execute(q) \n",
    "    \n",
    "def select_rows(q, table=None):\n",
    "    cursor.execute(q)\n",
    "    return cursor.fetchall()\n",
    "\n",
    "def insert_many_rows(q, data, table=None):\n",
    "    try:\n",
    "        cursor.executemany(q, data)\n",
    "        log = cursor.fetchall()\n",
    "        print(\"Result: \" + log)\n",
    "    except mysql.connector.Error as err:\n",
    "        print(err.msg)\n",
    "\n",
    "cnx = mysql.connector.connect(**config)\n",
    "cnx.autocommit = True\n",
    "cursor = cnx.cursor()\n",
    "\n",
    "query = \"SHOW DATABASES\"\n",
    "cursor.execute(query)\n",
    "rows = cursor.fetchall()\n",
    "print(\"Total number of databases:\", cursor.rowcount)\n",
    "for row in rows:\n",
    "    print(row)\n",
    "    \n",
    "cursor.execute(\"USE TaxiTest\")"
   ]
  },
  {
   "cell_type": "code",
   "execution_count": 2,
   "metadata": {
    "scrolled": true
   },
   "outputs": [
    {
     "name": "stdout",
     "output_type": "stream",
     "text": [
      "Table: address\n",
      "Columns: ( idAddress, City, Street, HouseNumber )\n",
      "Table: car\n",
      "Columns: ( idCar, Lisense, Mark, Model, Insurance_idInsurance, ChildSeat )\n",
      "Table: client\n",
      "Columns: ( idClient, Name, Phone, Password )\n",
      "Table: driver\n",
      "Columns: ( idDriver, Name, DriverLisence, Phone, isWorking )\n",
      "Table: insurance\n",
      "Columns: ( idInsurance, InsCompany_idInsCompany, InsuranceStartDate, InsuranceEndDate )\n",
      "Table: insurancecompany\n",
      "Columns: ( idInsuranceCompany, Address, Phone, Mail, Name )\n",
      "Table: operator\n",
      "Columns: ( idOperator, Name, Phone, Mail )\n",
      "Table: orders\n",
      "Columns: ( idOrder, Call_idCall, Departure_idAddress, Destination_idAddress, Taxi_idTaxi, Payment_idPayment, StartDatetime, FinishDatetime, Cost, Rate )\n",
      "Table: payment\n",
      "Columns: ( idPayment, PayTime, PaymentType, PaymentService_idPaymentService, Paycheck )\n",
      "Table: paymentservice\n",
      "Columns: ( idPaymentService, Name, Address, Site )\n",
      "Table: phonecall\n",
      "Columns: ( idCall, Operator_idOperator, Client_idClient, datetimeValue, Duration )\n",
      "Table: taxi\n",
      "Columns: ( idTaxi, Driver_idDriver, Car_idCar, Current_idAddress, Available, LastUpdate )\n"
     ]
    }
   ],
   "source": [
    "# DESCRIBE taxitest.order;\n",
    "\n",
    "cursor.execute(\"USE \" + DB_NAME)\n",
    "cursor.execute(\"SHOW Tables\")\n",
    "tables = cursor.fetchall()\n",
    "\n",
    "\n",
    "for table in tables:\n",
    "    print(\"Table:\", str(table[0]))\n",
    "    get_table_review(table[0], only_columns_names=True)\n"
   ]
  },
  {
   "cell_type": "markdown",
   "metadata": {},
   "source": [
    "# Start"
   ]
  },
  {
   "cell_type": "markdown",
   "metadata": {},
   "source": [
    "## Table `insurancecompany`"
   ]
  },
  {
   "cell_type": "code",
   "execution_count": 3,
   "metadata": {},
   "outputs": [
    {
     "name": "stdout",
     "output_type": "stream",
     "text": [
      "idInsuranceCompany, int(11), NO, PRI, None, \n",
      "Address, varchar(45), NO, , None, \n",
      "Phone, varchar(45), NO, , None, \n",
      "Mail, varchar(45), NO, , None, \n",
      "Name, varchar(45), NO, , None, \n",
      "Columns: ( idInsuranceCompany, Address, Phone, Mail, Name )\n",
      "query = \"INSERT INTO TaxiTest.insurancecompany (idInsuranceCompany, Address, Phone, Mail, Name) VALUES (%s, %s, %s, %s, %s)\"\n"
     ]
    }
   ],
   "source": [
    "table = DB_NAME + \".\" + \"insurancecompany\"\n",
    "get_table_review(table)"
   ]
  },
  {
   "cell_type": "code",
   "execution_count": 5,
   "metadata": {},
   "outputs": [
    {
     "name": "stdout",
     "output_type": "stream",
     "text": [
      "Total number of rows TaxiTest.insurancecompany: [(30,)].\n"
     ]
    },
    {
     "data": {
      "text/plain": [
       "30"
      ]
     },
     "execution_count": 5,
     "metadata": {},
     "output_type": "execute_result"
    }
   ],
   "source": [
    "count_rows(table)"
   ]
  },
  {
   "cell_type": "code",
   "execution_count": 12,
   "metadata": {},
   "outputs": [
    {
     "name": "stdout",
     "output_type": "stream",
     "text": [
      "len(names):  49\n",
      "Q:  INSERT INTO insurancecompany (idInsuranceCompany, Address, Phone, Mail, Name) VALUES (%s, %s, %s, %s, %s)\n",
      "D:  (1, 'Kazan, Batyrlyk, 98', '+7(843)6297134', 'asko@gmail.com', 'ASKO')\n"
     ]
    }
   ],
   "source": [
    "# Data generation\n",
    "\n",
    "with open('InsuranceCompany/Company.json') as f:\n",
    "    names = json.load(f)\n",
    "\n",
    "total_number = len(names)\n",
    "print(\"len(names): \", len(names))\n",
    "idInsuranceCompany = np.arange(total_number)\n",
    "\n",
    "with open('Street\\Street.json') as f:\n",
    "    streets = json.load(f)\n",
    "    streets = np.random.choice(streets, total_number, replace=False)\n",
    "\n",
    "query = \"INSERT INTO insurancecompany (idInsuranceCompany, Address, Phone, Mail, Name) VALUES (%s, %s, %s, %s, %s)\"\n",
    "data = []\n",
    "\n",
    "for i in range(total_number):\n",
    "    idInsuranceCompany = i + 1\n",
    "    address = \"Kazan, \" + streets[i] + \", \" + str(np.random.randint(1, 200))\n",
    "    phone = '+7(843)' + '{:07}'.format(np.random.randint(0, 9999999))\n",
    "    name = names[i]\n",
    "    mail = name.lower().replace(\" \", \"\") + '@gmail.com'\n",
    "    data.append((idInsuranceCompany, address, phone, mail, name))\n",
    "\n",
    "print(\"Q: \", query)\n",
    "print(\"D: \", data[0])\n",
    "\n",
    "# insert_many_rows(query, data)"
   ]
  },
  {
   "cell_type": "markdown",
   "metadata": {},
   "source": [
    "## Table `insurance`"
   ]
  },
  {
   "cell_type": "markdown",
   "metadata": {},
   "source": [
    "*** Changes ***\n",
    "~~~~python\n",
    "# Modify type\n",
    "cursor.execute(\"ALTER TABLE \" + table + \" MODIFY InsuranceStartDate DATE\")\n",
    "cursor.execute(\"ALTER TABLE \" + table + \" MODIFY InsuranceEndDate DATE\")\n",
    "\n",
    "# Change order\n",
    "cursor.execute(\"ALTER TABLE \" + table + \" CHANGE COLUMN InsuranceEndDate InsuranceEndDate Date AFTER InsuranceStartDate\")\n",
    "~~~~"
   ]
  },
  {
   "cell_type": "code",
   "execution_count": 16,
   "metadata": {},
   "outputs": [
    {
     "name": "stdout",
     "output_type": "stream",
     "text": [
      "idInsurance, int(11), NO, PRI, None, \n",
      "InsCompany_idInsCompany, int(11), NO, MUL, None, \n",
      "InsuranceStartDate, date, YES, , None, \n",
      "InsuranceEndDate, date, YES, , None, \n",
      "Columns: ( idInsurance, InsCompany_idInsCompany, InsuranceStartDate, InsuranceEndDate )\n",
      "query = \"INSERT INTO TaxiTest.insurance (idInsurance, InsCompany_idInsCompany, InsuranceStartDate, InsuranceEndDate) VALUES (%s, %s, %s, %s)\"\n"
     ]
    }
   ],
   "source": [
    "table = DB_NAME + \".\" + \"insurance\"\n",
    "get_table_review(table)"
   ]
  },
  {
   "cell_type": "code",
   "execution_count": 17,
   "metadata": {},
   "outputs": [
    {
     "name": "stdout",
     "output_type": "stream",
     "text": [
      "Total number of rows TaxiTest.insurance: [(100,)].\n"
     ]
    },
    {
     "data": {
      "text/plain": [
       "100"
      ]
     },
     "execution_count": 17,
     "metadata": {},
     "output_type": "execute_result"
    }
   ],
   "source": [
    "count_rows(table)"
   ]
  },
  {
   "cell_type": "code",
   "execution_count": 18,
   "metadata": {},
   "outputs": [
    {
     "name": "stdout",
     "output_type": "stream",
     "text": [
      "Q:  INSERT INTO TaxiTest.insurance (idInsurance, InsCompany_idInsCompany, InsuranceEndDate, InsuranceStartDate) VALUES (%s , %s , %s , %s )\n",
      "D:  (1, 29, datetime.date(2016, 6, 19), datetime.date(2017, 1, 5))\n"
     ]
    }
   ],
   "source": [
    "# Data generation\n",
    "with open('InsuranceCompany\\Company.json', 'w') as outfile:\n",
    "    json.dump(names, outfile)\n",
    "\n",
    "query = \"INSERT INTO TaxiTest.insurance (idInsurance, InsCompany_idInsCompany, InsuranceEndDate, InsuranceStartDate) VALUES (%s , %s , %s , %s )\"\n",
    "data = []\n",
    "\n",
    "total_number = 100\n",
    "\n",
    "for i in range(total_number):\n",
    "    idInsurance = i + 1 \n",
    "    InsCompany_idInsCompany = np.random.randint(1, 30)\n",
    "    InsuranceStartDate = date(2014 + np.random.randint(-3, 3), np.random.randint(1, 10), np.random.randint(1, 25))\n",
    "    InsuranceEndDate = InsuranceStartDate + timedelta(days=25*int(np.random.choice(np.array([6, 8, 12]))))\n",
    "    data.append((idInsurance, InsCompany_idInsCompany, InsuranceStartDate, InsuranceEndDate))\n",
    "    #print(data[i])\n",
    "    \n",
    "print(\"Q: \", query)\n",
    "print(\"D: \", data[0])\n",
    "\n",
    "# insert_many_rows(query, data)"
   ]
  },
  {
   "cell_type": "markdown",
   "metadata": {},
   "source": [
    "## Table `car`"
   ]
  },
  {
   "cell_type": "markdown",
   "metadata": {},
   "source": [
    "*** Changes ***\n",
    "~~~~python\n",
    "# Modify type\n",
    "cursor.execute(\"ALTER TABLE \" + table + \" MODIFY ChildSeat INT\")\n",
    "~~~~\n"
   ]
  },
  {
   "cell_type": "code",
   "execution_count": 19,
   "metadata": {},
   "outputs": [
    {
     "name": "stdout",
     "output_type": "stream",
     "text": [
      "idCar, int(11), NO, PRI, None, \n",
      "Lisense, varchar(45), NO, , None, \n",
      "Mark, varchar(45), NO, , None, \n",
      "Model, varchar(45), NO, , None, \n",
      "Insurance_idInsurance, int(11), NO, MUL, None, \n",
      "ChildSeat, int(11), YES, , None, \n",
      "Columns: ( idCar, Lisense, Mark, Model, Insurance_idInsurance, ChildSeat )\n",
      "query = \"INSERT INTO TaxiTest.car (idCar, Lisense, Mark, Model, Insurance_idInsurance, ChildSeat) VALUES (%s, %s, %s, %s, %s, %s)\"\n",
      "Total number of rows TaxiTest.car: [(100,)].\n"
     ]
    },
    {
     "data": {
      "text/plain": [
       "100"
      ]
     },
     "execution_count": 19,
     "metadata": {},
     "output_type": "execute_result"
    }
   ],
   "source": [
    "table = DB_NAME + \".\" + \"car\"\n",
    "get_table_review(table)\n",
    "count_rows(table)"
   ]
  },
  {
   "cell_type": "code",
   "execution_count": 20,
   "metadata": {},
   "outputs": [
    {
     "name": "stdout",
     "output_type": "stream",
     "text": [
      "Q:  INSERT INTO TaxiTest.car (idCar, Lisense, Mark, Model, Insurance_idInsurance, ChildSeat) VALUES (%s, %s, %s, %s, %s, %s)\n",
      "D:  (1, '5FLUNKP', 'Jeep', 'Renegade', 13, 1)\n"
     ]
    }
   ],
   "source": [
    "# Data generation\n",
    "query = \"INSERT INTO TaxiTest.car (idCar, Lisense, Mark, Model, Insurance_idInsurance, ChildSeat) VALUES (%s, %s, %s, %s, %s, %s)\"\n",
    "data = []\n",
    "\n",
    "total_number = 100\n",
    "# Get insurances (better in random order), we have 100 insurances -> total_number = 100 of cars available\n",
    "# Warning: np.arange(a) return from 0 to a - 1\n",
    "# Writing Insurance_idInsurance which doesn't exist in insurance is restricted - QUERY will not be executed\n",
    "insurances = np.arange(1, total_number + 1)\n",
    "np.random.shuffle(insurances)\n",
    "\n",
    "# Load cars\n",
    "with open(\"Car/Car.json\") as f:\n",
    "    cars = json.load(f)\n",
    "\n",
    "# Generate UNIQUE car licenses\n",
    "licenses = set()\n",
    "alphanums = string.ascii_uppercase + string.digits\n",
    "while len(licenses) != 100:\n",
    "    licenses.add(''.join(random.choice(alphanums) for _ in range(7)))\n",
    "licenses = list(licenses)\n",
    "\n",
    "for i in range(total_number):\n",
    "    idCar = i + 1 \n",
    "    Lisense = licenses[i]\n",
    "    (Mark, Model) = np.random.choice(cars).split(' ')\n",
    "    # Failed processing format-parameters; Python 'int32' cannot be converted to a MySQL type\n",
    "    Insurance_idInsurance = int(insurances[i])\n",
    "    ChildSeat = int(np.random.choice([0, 1]))\n",
    "    data.append((idCar, Lisense, Mark, Model, Insurance_idInsurance, ChildSeat))\n",
    "    # print(data[i])\n",
    "    \n",
    "print(\"Q: \", query)\n",
    "print(\"D: \", data[0])\n",
    "\n",
    "# insert_many_rows(query, data)"
   ]
  },
  {
   "cell_type": "markdown",
   "metadata": {},
   "source": [
    "## Table `driver` "
   ]
  },
  {
   "cell_type": "markdown",
   "metadata": {},
   "source": [
    "*** Changes ***\n",
    "~~~~python\n",
    "# Add isWorking to check if driver working or not\n",
    "cursor.execute(\"ALTER TABLE \" + table + \" ADD COLUMN isWorking INT NOT NULL\")\n",
    "cursor.execute(\"ALTER TABLE \" + table + \" MODIFY COLUMN Name VARCHAR(45) NOT NULL\")\n",
    "~~~~"
   ]
  },
  {
   "cell_type": "code",
   "execution_count": 21,
   "metadata": {},
   "outputs": [
    {
     "name": "stdout",
     "output_type": "stream",
     "text": [
      "idDriver, int(11), NO, PRI, None, \n",
      "Name, varchar(45), NO, , None, \n",
      "DriverLisence, varchar(45), NO, UNI, None, \n",
      "Phone, varchar(45), NO, UNI, None, \n",
      "isWorking, int(11), NO, , None, \n",
      "Columns: ( idDriver, Name, DriverLisence, Phone, isWorking )\n",
      "query = \"INSERT INTO TaxiTest.driver (idDriver, Name, DriverLisence, Phone, isWorking) VALUES (%s, %s, %s, %s, %s)\"\n",
      "Total number of rows TaxiTest.driver: [(75,)].\n"
     ]
    },
    {
     "data": {
      "text/plain": [
       "75"
      ]
     },
     "execution_count": 21,
     "metadata": {},
     "output_type": "execute_result"
    }
   ],
   "source": [
    "table = DB_NAME + '.' + 'driver' \n",
    "get_table_review(table)\n",
    "count_rows(table)"
   ]
  },
  {
   "cell_type": "code",
   "execution_count": 24,
   "metadata": {},
   "outputs": [
    {
     "name": "stdout",
     "output_type": "stream",
     "text": [
      "Q:  INSERT INTO TaxiTest.driver (idDriver, Name, DriverLisence, Phone, isWorking) VALUES (%s, %s, %s, %s, %s)\n",
      "D:  (1, 'Осипов Альберт', 'XHWIWQG7816', '+7(820)5254510', 1)\n"
     ]
    }
   ],
   "source": [
    "total_number = 75\n",
    "query = \"INSERT INTO TaxiTest.driver (idDriver, Name, DriverLisence, Phone, isWorking) VALUES (%s, %s, %s, %s, %s)\"\n",
    "\n",
    "# Get all possible names_surnames combinations\n",
    "names = []\n",
    "with open(\"Names/Names.json\", 'r') as f:\n",
    "    names = json.load(f)\n",
    "    names = list(np.random.choice(names, size=total_number))\n",
    "    \n",
    "# Generate UNIQUE driver licenses\n",
    "licenses = set()\n",
    "while len(licenses) != total_number:\n",
    "    part1 = ''.join(random.choice(string.ascii_uppercase) for _ in range(7))\n",
    "    part2 = ''.join(random.choice(string.digits) for _ in range(4))\n",
    "    licenses.add(part1 + part2)\n",
    "licenses = list(licenses)\n",
    "\n",
    "data = []\n",
    "for i in range(total_number):\n",
    "    idDriver = i + 1\n",
    "    # Failed processing format-parameters; Python 'str_' cannot be converted to a MySQL type\n",
    "    Name = str(names[i])\n",
    "    DriverLisence = licenses[i]\n",
    "    Phone = '+7({}){:07}'.format(np.random.randint(50, 990), np.random.randint(0, 9999999))\n",
    "    isWorking = int(np.random.choice([0, 1], p=[0.15, 0.85]))\n",
    "    data.append((idDriver, Name, DriverLisence, Phone, isWorking))\n",
    "    \n",
    "print(\"Q: \", query)\n",
    "print(\"D: \", data[0])\n",
    "\n",
    "# insert_many_rows(query, data)"
   ]
  },
  {
   "cell_type": "markdown",
   "metadata": {},
   "source": [
    "## Table `address`"
   ]
  },
  {
   "cell_type": "markdown",
   "metadata": {},
   "source": [
    "*** Changes ***\n",
    "~~~~python\n",
    "# Drop GeoPoint\n",
    "cursor.execute(\"ALTER TABLE \" + table + \" DROP COLUMN GeoPoint\")\n",
    "# Delete index on UNIQUE city\n",
    "cursor.execute(\"ALTER TABLE \" + table + \" DROP INDEX City_UNIQUE\")\n",
    "~~~~"
   ]
  },
  {
   "cell_type": "code",
   "execution_count": 25,
   "metadata": {},
   "outputs": [
    {
     "name": "stdout",
     "output_type": "stream",
     "text": [
      "idAddress, int(11), NO, PRI, None, \n",
      "City, varchar(45), NO, , None, \n",
      "Street, varchar(45), NO, , None, \n",
      "HouseNumber, int(11), NO, , None, \n",
      "Columns: ( idAddress, City, Street, HouseNumber )\n",
      "query = \"INSERT INTO TaxiTest.address (idAddress, City, Street, HouseNumber) VALUES (%s, %s, %s, %s)\"\n",
      "Total number of rows TaxiTest.address: [(1000,)].\n"
     ]
    },
    {
     "data": {
      "text/plain": [
       "1000"
      ]
     },
     "execution_count": 25,
     "metadata": {},
     "output_type": "execute_result"
    }
   ],
   "source": [
    "table = DB_NAME + '.' + 'address' \n",
    "get_table_review(table)\n",
    "count_rows(table)"
   ]
  },
  {
   "cell_type": "code",
   "execution_count": null,
   "metadata": {},
   "outputs": [],
   "source": [
    "total_number = 1000\n",
    "query = \"INSERT INTO TaxiTest.address (idAddress, City, Street, HouseNumber) VALUES (%s, %s, %s, %s)\"\n",
    "\n",
    "City = \"Kazan\"\n",
    "# Get all streets\n",
    "with open('Streets.json') as f:\n",
    "    streets = json.load(f)\n",
    "    streets = np.random.choice(streets, total_number, replace=False)\n",
    "\n",
    "# Get names\n",
    "data = []\n",
    "for i in range(total_number):\n",
    "    idAddress = i + 1\n",
    "    Street = str(streets[i])\n",
    "    HouseNumber = int(random.randint(1, 100))\n",
    "    data.append((idAddress, City, Street, HouseNumber))\n",
    "    \n",
    "print(\"Q: \", query)\n",
    "print(\"D: \", data[0])\n",
    "\n",
    "# insert_many_rows(query, data)"
   ]
  },
  {
   "cell_type": "markdown",
   "metadata": {},
   "source": [
    "## Table `taxi`"
   ]
  },
  {
   "cell_type": "markdown",
   "metadata": {},
   "source": [
    "*** Changes ***\n",
    "~~~~python\n",
    "# Rename\n",
    "cursor.execute(\"ALTER TABLE \" + table + \" CHANGE LatUpdate LastUpdate DATETIME\")\n",
    "# Change datatatype in case Python won`t permit writing to TINYINT\n",
    "cursor.execute(\"ALTER TABLE \" + table + \" MODIFY COLUMN Available INT\")\n",
    "\n",
    "# Change to AUTO-INCREMENT\n",
    "cursor.execute(\"ALTER TABLE \" + table + \" MODIFY COLUMN idTaxi INT AUTO_INCREMENT NOT NULL\")\n",
    "~~~~\n",
    "*** Late: cannot change column 'idtaxi': used in a foreign key constraint 'fk_Order_Taxi' of table 'taxitest.order' ***"
   ]
  },
  {
   "cell_type": "code",
   "execution_count": 26,
   "metadata": {},
   "outputs": [
    {
     "name": "stdout",
     "output_type": "stream",
     "text": [
      "Columns: ( idDriver, Name, DriverLisence, Phone, isWorking )\n",
      "Columns: ( idCar, Lisense, Mark, Model, Insurance_idInsurance, ChildSeat )\n",
      "Total number of rows Address: [(1000,)].\n",
      "\n",
      "idTaxi, int(11), NO, MUL, None, \n",
      "Driver_idDriver, int(11), NO, PRI, None, \n",
      "Car_idCar, int(11), NO, PRI, None, \n",
      "Current_idAddress, int(11), NO, MUL, None, \n",
      "Available, int(11), YES, , None, \n",
      "LastUpdate, datetime, YES, , None, \n",
      "Columns: ( idTaxi, Driver_idDriver, Car_idCar, Current_idAddress, Available, LastUpdate )\n",
      "query = \"INSERT INTO TaxiTest.Taxi (idTaxi, Driver_idDriver, Car_idCar, Current_idAddress, Available, LastUpdate) VALUES (%s, %s, %s, %s, %s, %s)\"\n",
      "Total number of rows TaxiTest.Taxi: [(500,)].\n"
     ]
    }
   ],
   "source": [
    "table = DB_NAME + '.' + 'Driver'\n",
    "get_table_review(table, True)\n",
    "table = DB_NAME + '.' + 'Car'\n",
    "get_table_review(table, True)\n",
    "\n",
    "table = \"Address\"\n",
    "address_rows_amount = count_rows(\"Address\")\n",
    "print(\"\")\n",
    "\n",
    "# Try to select values from tables\n",
    "table = DB_NAME + '.' + 'Taxi'\n",
    "get_table_review(table)\n",
    "address_rows_amount = count_rows(table)"
   ]
  },
  {
   "cell_type": "markdown",
   "metadata": {},
   "source": [
    "*** If driver is not working -> taxi is not available ***\n",
    "\n",
    "*** Taxi may be not available even if driver is not deleted *** "
   ]
  },
  {
   "cell_type": "code",
   "execution_count": 41,
   "metadata": {},
   "outputs": [
    {
     "name": "stdout",
     "output_type": "stream",
     "text": [
      "Total number of rows Address: [(1000,)].\n"
     ]
    }
   ],
   "source": [
    "table = \"TaxiTest.Taxi\"\n",
    "\n",
    "# Using Taxi table attributes order to create query.\n",
    "# INSERT INTO Taxi (idTaxi, Driver_idDriver, Car_idCar, Current_idAddress, Available, LatUpdate)\n",
    "address_rows_amount = count_rows(\"Address\")\n",
    "q = \"SELECT idDriver, isWorking, idCar, ROUND(1 + RAND() * %s) as Current_idAddress FROM Driver JOIN Car \" % (address_rows_amount - 1)\n",
    "\n",
    "total_amount = 500\n",
    "result = select_rows(q)\n",
    "\n",
    "taxi_combinations_set = np.arange(1, len(result))\n",
    "np.random.shuffle(taxi_combinations_set)                                  \n",
    "                                  \n",
    "q = \"INSERT INTO TaxiTest.Taxi (idTaxi, Driver_idDriver, Car_idCar, Current_idAddress, Available, LastUpdate) VALUES (%s, %s, %s, %s, %s, %s)\"\n",
    "data = []\n",
    "\n",
    "for i in range(total_amount):\n",
    "    row = result[taxi_combinations_set[i]]\n",
    "    isWorking = row[1]\n",
    "    LastUpdate = datetime.now() + timedelta(hours=np.random.randint(1, 12), minutes=np.random.randint(5, 60))\n",
    "    if isWorking == 0:\n",
    "        LastUpdate -= timedelta(days=np.random.randint(4, 90))\n",
    "    available = int(np.random.choice([0, 1], p=[0.4, 0.6]) if isWorking else 0)\n",
    "    # Order: (idTaxi, Driver_idDriver, Car_idCar, Current_idAddress, Available, LastUpdate)\n",
    "    data.append((i + 1, int(row[0]), int(row[2]), int(row[3]), available, LastUpdate))\n",
    "    #print(data[i])\n",
    "    \n",
    "# insert_many_rows(q, data)"
   ]
  },
  {
   "cell_type": "markdown",
   "metadata": {},
   "source": [
    "## Table `Operator`"
   ]
  },
  {
   "cell_type": "code",
   "execution_count": 42,
   "metadata": {},
   "outputs": [
    {
     "name": "stdout",
     "output_type": "stream",
     "text": [
      "idOperator, int(11), NO, PRI, None, \n",
      "Name, varchar(45), NO, , None, \n",
      "Phone, varchar(45), NO, UNI, None, \n",
      "Mail, varchar(45), NO, , None, \n",
      "Columns: ( idOperator, Name, Phone, Mail )\n",
      "query = \"INSERT INTO TaxiTest.operator (idOperator, Name, Phone, Mail) VALUES (%s, %s, %s, %s)\"\n",
      "Total number of rows TaxiTest.operator: [(50,)].\n"
     ]
    },
    {
     "data": {
      "text/plain": [
       "50"
      ]
     },
     "execution_count": 42,
     "metadata": {},
     "output_type": "execute_result"
    }
   ],
   "source": [
    "table = DB_NAME + '.' + 'operator' \n",
    "get_table_review(table)\n",
    "count_rows(table)"
   ]
  },
  {
   "cell_type": "code",
   "execution_count": 43,
   "metadata": {},
   "outputs": [
    {
     "name": "stdout",
     "output_type": "stream",
     "text": [
      "Q:  INSERT INTO TaxiTest.operator (idOperator, Name, Phone, Mail) VALUES (%s, %s, %s, %s)\n",
      "D:  (1, 'Федоров Вадим', '+7(843)2283950', 'fedorov.vadim@gmail.com')\n"
     ]
    }
   ],
   "source": [
    "total_number = 50\n",
    "query = \"INSERT INTO TaxiTest.operator (idOperator, Name, Phone, Mail) VALUES (%s, %s, %s, %s)\"\n",
    "\n",
    "# Get all possible names_surnames combinations\n",
    "names = []\n",
    "with open(\"Names/Names.json\", 'r') as f:\n",
    "    names = json.load(f)\n",
    "    names = list(np.random.choice(names, size=total_number))\n",
    "\n",
    "# Generate UNIQUE phones\n",
    "phones = set()\n",
    "while len(phones) != total_number:\n",
    "    phone = '+7(843)' + '{:07}'.format(np.random.randint(0, 9999999))\n",
    "    phones.add(phone)\n",
    "phones = list(phones)\n",
    "\n",
    "symbols = (u\"абвгдеёжзийклмнопрстуфхцчшщъыьэюяАБВГДЕЁЖЗИЙКЛМНОПРСТУФХЦЧШЩЪЫЬЭЮЯ\",\n",
    "           u\"abvgdeejzijklmnoprstufhzcss_y_euaABVGDEEJZIJKLMNOPRSTUFHZCSS_Y_EUA\")\n",
    "tr = {ord(a):ord(b) for a, b in zip(*symbols)}\n",
    "\n",
    "data = []\n",
    "for i in range(total_number):\n",
    "    idOperator = i + 1\n",
    "    name = names[i].replace(' ', '.')\n",
    "    mail = name.translate(tr).lower() + '@gmail.com'\n",
    "    data.append((idOperator, str(names[i]), str(phones[i]), str(mail)))\n",
    "    \n",
    "print(\"Q: \", query)\n",
    "print(\"D: \", data[0])\n",
    "\n",
    "# insert_many_rows(query, data)"
   ]
  },
  {
   "cell_type": "markdown",
   "metadata": {},
   "source": [
    "## Table `Client`"
   ]
  },
  {
   "cell_type": "markdown",
   "metadata": {},
   "source": [
    "*** Changes ***\n",
    "~~~~python\n",
    "cursor.execute(\"ALTER TABLE \" + table + \" CHANGE COLUMN Name Name VARCHAR(45) AFTER idClient\")\n",
    "~~~~"
   ]
  },
  {
   "cell_type": "code",
   "execution_count": 44,
   "metadata": {},
   "outputs": [
    {
     "name": "stdout",
     "output_type": "stream",
     "text": [
      "idClient, int(11), NO, PRI, None, auto_increment\n",
      "Name, varchar(45), YES, , None, \n",
      "Phone, varchar(45), NO, UNI, None, \n",
      "Password, varchar(45), NO, , None, \n",
      "Columns: ( idClient, Name, Phone, Password )\n",
      "query = \"INSERT INTO TaxiTest.client (idClient, Name, Phone, Password) VALUES (%s, %s, %s, %s)\"\n",
      "Total number of rows TaxiTest.client: [(5000,)].\n"
     ]
    },
    {
     "data": {
      "text/plain": [
       "5000"
      ]
     },
     "execution_count": 44,
     "metadata": {},
     "output_type": "execute_result"
    }
   ],
   "source": [
    "table = DB_NAME + '.' + 'client' \n",
    "get_table_review(table)\n",
    "count_rows(table)"
   ]
  },
  {
   "cell_type": "code",
   "execution_count": 45,
   "metadata": {},
   "outputs": [
    {
     "name": "stdout",
     "output_type": "stream",
     "text": [
      "Q:  INSERT INTO TaxiTest.client (idClient, Name, Phone, Password) VALUES (%s, %s, %s, %s)\n",
      "D:  (1, 'Лебедев Виктор', '+7(950)6118323', 'WkUQVNw')\n"
     ]
    }
   ],
   "source": [
    "total_number = 5000\n",
    "query = \"INSERT INTO TaxiTest.client (idClient, Name, Phone, Password) VALUES (%s, %s, %s, %s)\"\n",
    "\n",
    "# Get all possible names_surnames combinations\n",
    "names = []\n",
    "with open(\"Names/Names.json\", 'r') as f:\n",
    "    names = json.load(f)\n",
    "    names = list(np.random.choice(names, size=total_number))\n",
    "\n",
    "names = np.random.choice(names, total_number, replace=False)\n",
    "\n",
    "# Generate UNIQUE phones\n",
    "phones = set()\n",
    "while len(phones) != total_number:\n",
    "    phone = '+7({:03}){:07}'.format(np.random.randint(50, 990), np.random.randint(0, 9999999))\n",
    "    phones.add(phone)\n",
    "phones = list(phones)\n",
    "\n",
    "alphanums = string.ascii_letters + string.digits\n",
    "    \n",
    "data = []\n",
    "for i in range(total_number):\n",
    "    idClient = i + 1\n",
    "    password = ''.join(random.choice(alphanums) for _ in range(7))\n",
    "    data.append((idClient, str(names[i]), phones[i], password))\n",
    "    \n",
    "print(\"Q: \", query)\n",
    "print(\"D: \", data[0])\n",
    "\n",
    "# insert_many_rows(query, data)"
   ]
  },
  {
   "cell_type": "markdown",
   "metadata": {},
   "source": [
    "## Table `PhoneCall`"
   ]
  },
  {
   "cell_type": "markdown",
   "metadata": {},
   "source": [
    "*** Changes ***\n",
    "~~~~python\n",
    "# Unnset NOT NULL\n",
    "cursor.execute(\"ALTER TABLE \" + table + \" CHANGE COLUMN `Duration` `Duration` INT AFTER Datetime\")\n",
    "# Change Primary Key from (idOperator, idClient) to idCall\n",
    "cursor.execute(\"ALTER TABLE \" + table + \" DROP PRIMARY KEY, ADD PRIMARY KEY (idCall)\")\n",
    "\n",
    "# Rename to remove MySQL Errors\n",
    "cursor.execute(\"ALTER TABLE \" + table + \" CHANGE COLUMN `datetime` `datetimeValue` DATETIME\")\n",
    "# Rename because Call is a system word\n",
    "cursor.execute(\"ALTER TABLE \" + table + \" RENAME TO PhoneCall\")\n",
    "# Replace\n",
    "cursor.execute(\"ALTER TABLE \" + table + \" CHANGE COLUMN `Datetime` `Datetime` Datetime AFTER Client_idClient\")\n",
    "~~~~\n",
    "*** Change idCall to NOT AUTO-INCREMENT ***\n",
    "~~~~sql\n",
    "SHOW CREATE TABLE PhoneCall;\n",
    "ALTER TABLE `Order` DROP FOREIGN KEY fk_Order_Call;\n",
    "ALTER TABLE `PhoneCall` CHANGE COLUMN `idCall` `idCall` INT NOT NULL;\n",
    "# Adding PRIMARY KEY on idCall not needed in case it already exists \n",
    "\n",
    "# Return CONSTRAINT (Workbench): Used inital Create script to identify constraint and FK names.\n",
    "ALTER TABLE `Order` ADD CONSTRAINT fk_Order_Call FOREIGN KEY (`Call_idCall`) REFERENCES `PhoneCall`(`idCall`);\n",
    "\n",
    "# Check constraint\n",
    "SELECT TABLE_NAME,COLUMN_NAME,CONSTRAINT_NAME, REFERENCED_TABLE_NAME,REFERENCED_COLUMN_NAME\n",
    "FROM INFORMATION_SCHEMA.KEY_COLUMN_USAGE\n",
    "WHERE\n",
    "  REFERENCED_TABLE_SCHEMA = 'TaxiTest' AND\n",
    "  REFERENCED_TABLE_NAME = 'PhoneCall' AND\n",
    "  REFERENCED_COLUMN_NAME = 'idCall';\n",
    "\n",
    "~~~~"
   ]
  },
  {
   "cell_type": "code",
   "execution_count": 16,
   "metadata": {},
   "outputs": [
    {
     "name": "stdout",
     "output_type": "stream",
     "text": [
      "idCall, int(11), NO, PRI, None, \n",
      "Operator_idOperator, int(11), NO, MUL, None, \n",
      "Client_idClient, int(11), NO, MUL, None, \n",
      "datetimeValue, datetime, YES, , None, \n",
      "Duration, int(11), YES, , None, \n",
      "Columns: ( idCall, Operator_idOperator, Client_idClient, datetimeValue, Duration )\n",
      "query = \"INSERT INTO TaxiTest.PhoneCall (idCall, Operator_idOperator, Client_idClient, datetimeValue, Duration) VALUES (%s, %s, %s, %s, %s)\"\n",
      "Total number of rows TaxiTest.PhoneCall: [(1500,)].\n"
     ]
    },
    {
     "data": {
      "text/plain": [
       "1500"
      ]
     },
     "execution_count": 16,
     "metadata": {},
     "output_type": "execute_result"
    }
   ],
   "source": [
    "table = DB_NAME + '.' + 'PhoneCall'\n",
    "get_table_review(table)\n",
    "\n",
    "count_rows(table)"
   ]
  },
  {
   "cell_type": "code",
   "execution_count": 46,
   "metadata": {},
   "outputs": [
    {
     "name": "stdout",
     "output_type": "stream",
     "text": [
      "Total number of rows Operator: [(50,)].\n",
      "Total number of rows Client: [(5000,)].\n",
      "Q:  INSERT INTO PhoneCall (idCall, Operator_idOperator, Client_idClient, datetimeValue, Duration) VALUES (%s, %s, %s, %s, %s)\n",
      "Q:  INSERT INTO PhoneCall (idCall, Operator_idOperator, Client_idClient, datetimeValue, Duration) VALUES (%s, %s, %s, %s, %s)\n",
      "D:  (1, 16, 2012, '2018-03-05 09:43:00', 57)\n"
     ]
    }
   ],
   "source": [
    "'''\n",
    "query = \"SELECT idOperator, idClient FROM Operator JOIN Client\"\n",
    "result = select_rows(table, q)\n",
    "client_max_id * operators_max_id = len(result)\n",
    "'''\n",
    "# This query is hard, cause handles 5000 * 50 combinations -> \n",
    "# execute with sumpler queries (need only range of corresponding ids)\n",
    "\n",
    "operators_max_id = count_rows(\"Operator\")\n",
    "client_max_id = count_rows(\"Client\")\n",
    "\n",
    "total_amount = 1500\n",
    "all_combinations = list(itertools.product(np.arange(1, operators_max_id), np.arange(1, client_max_id)))\n",
    "np.random.shuffle(all_combinations)\n",
    "\n",
    "# Roolback on datetime then\n",
    "query = \"INSERT INTO PhoneCall (idCall, Operator_idOperator, Client_idClient, datetimeValue, Duration) VALUES (%s, %s, %s, %s, %s)\"\n",
    "data = []\n",
    "\n",
    "print(\"Q: \", query)\n",
    "with open('C:/SQL/PhoneCall - INSERT 1500 with DATETIME.sql', 'w') as f:\n",
    "    f.write('INSERT INTO PhoneCall (idCall, Operator_idOperator, Client_idClient, datetimeValue, Duration) VALUES \\n')\n",
    "    for i in range(total_amount):\n",
    "        idCall = i + 1\n",
    "        (Operator_idOperator, Client_idClient) = all_combinations[i]\n",
    "        duration = int(np.random.randint(20, 120))\n",
    "        # Order: Operator_idOperator, Client_idClient, Duration  \n",
    "        datetime_value = datetime(2018, np.random.randint(1, 8), np.random.randint(1, 28)) + timedelta(minutes=np.random.randint(-1000, 1000))\n",
    "        formatted_date = datetime_value.strftime('%Y-%m-%d %H:%M:%S')\n",
    "        data.append((idCall, Operator_idOperator, Client_idClient, formatted_date, duration))\n",
    "        f.write(\"(%s, %s, %s, \\'%s\\', %s),\\n\" % data[i])\n",
    "    \n",
    "print(\"Q: \", query)\n",
    "print(\"D: \", data[0])\n",
    "# insert_many_rows(query, data)"
   ]
  },
  {
   "cell_type": "markdown",
   "metadata": {},
   "source": [
    "*** Result: *** written to text file and inserted using MySQL Workbench. "
   ]
  },
  {
   "cell_type": "markdown",
   "metadata": {},
   "source": [
    "*** Update: *** fixed function call"
   ]
  },
  {
   "cell_type": "markdown",
   "metadata": {},
   "source": [
    "## Table `PaymentService`"
   ]
  },
  {
   "cell_type": "code",
   "execution_count": 47,
   "metadata": {},
   "outputs": [
    {
     "name": "stdout",
     "output_type": "stream",
     "text": [
      "idPaymentService, int(11), NO, PRI, None, \n",
      "Name, varchar(45), NO, UNI, None, \n",
      "Address, varchar(45), NO, UNI, None, \n",
      "Site, varchar(45), NO, UNI, None, \n",
      "Columns: ( idPaymentService, Name, Address, Site )\n",
      "query = \"INSERT INTO TaxiTest.PaymentService (idPaymentService, Name, Address, Site) VALUES (%s, %s, %s, %s)\"\n",
      "Total number of rows TaxiTest.PaymentService: [(13,)].\n"
     ]
    },
    {
     "data": {
      "text/plain": [
       "13"
      ]
     },
     "execution_count": 47,
     "metadata": {},
     "output_type": "execute_result"
    }
   ],
   "source": [
    "table = DB_NAME + '.' + 'PaymentService'\n",
    "get_table_review(table)\n",
    "count_rows(table)"
   ]
  },
  {
   "cell_type": "code",
   "execution_count": 50,
   "metadata": {},
   "outputs": [
    {
     "name": "stdout",
     "output_type": "stream",
     "text": [
      "INSERT INTO `paymentservice` (idPaymentService, Name, Address, Site) VALUES (%s, %s, %s, %s)\n",
      "Q:  INSERT INTO `paymentservice` (idPaymentService, Name, Address, Site) VALUES (%s, %s, %s, %s)\n",
      "D:  (1, 'AlfaPayService', 'Kazan, Belogorsk, 3', 'alfa.com')\n",
      "\n"
     ]
    }
   ],
   "source": [
    "with open('PaymentService/Service.json', 'r') as f:\n",
    "    services = json.load(f)\n",
    "total_amount = len(services)\n",
    "\n",
    "with open('Street/Street.json', 'r') as f:\n",
    "    streets = json.load(f)\n",
    "    streets = np.random.choice(streets, total_amount)\n",
    "    \n",
    "query = \"INSERT INTO `paymentservice` (idPaymentService, Name, Address, Site) VALUES (%s, %s, %s, %s)\"\n",
    "print(query)\n",
    "data = []    \n",
    "for i in range(total_amount):\n",
    "    idPaymentService = i + 1\n",
    "    Name = services[i]\n",
    "    Address = 'Kazan, ' + streets[i] + ', ' + str(np.random.randint(1, 10))\n",
    "    Site = Name.lower()[:-10] + '.com'    \n",
    "    data.append((idPaymentService, Name, Address, Site))\n",
    "    \n",
    "print(\"Q: \", query)\n",
    "print(\"D: \", data[0])\n",
    "print(\"\")\n",
    "\n",
    "#insert_many_rows(query, data)"
   ]
  },
  {
   "cell_type": "markdown",
   "metadata": {},
   "source": [
    "~~~~sql\n",
    "INSERT INTO TaxiTest.PaymentService (idPaymentService, Name, Address, Site) VALUES\n",
    "(1, 'SberbankPayService', 'Kazan, Baltic, 4', 'sberbank.com') ,\n",
    "(2, 'VTBPayService', 'Kazan, Peter, 2', 'vtb.com') ,\n",
    "(3, 'GazprombankPayService', 'Kazan, Kirov, 6', 'gazprombank.com') ,\n",
    "(4, 'VTB-24PayService', 'Kazan, Ichigovaya, 8', 'vtb-24.com') ,\n",
    "(5, 'RosselkhozbankPayService', 'Kazan, Syzranskaya, 8', 'rosselkhozbank.com') ,\n",
    "(6, 'BankPayService', 'Kazan, Aktaş, 1', 'bank.com') ,\n",
    "(7, 'AlfaPayService', 'Kazan, Winter, 1', 'alfa.com') ,\n",
    "(8, 'NomosPayService', 'Kazan, Armuti, 8', 'nomos.com') ,\n",
    "(9, 'UnicreditPayService', 'Kazan, Cross-Road, 1', 'unicredit.com') ,\n",
    "(10, 'RosbankPayService', 'Kazan, Kyrlay, 9', 'rosbank.com') ,\n",
    "(11, 'PromsvyazbankPayService', 'Kazan, Snowball, 2', 'promsvyazbank.com') ,\n",
    "(12, 'RaiffeisenbankPayService', 'Kazan, Bastion, 7', 'raiffeisenbank.com');\n",
    "~~~~\n"
   ]
  },
  {
   "cell_type": "markdown",
   "metadata": {},
   "source": [
    "## Table `Payment`"
   ]
  },
  {
   "cell_type": "markdown",
   "metadata": {},
   "source": [
    "*** Changes ***\n",
    "~~~~python\n",
    "# Change to Cash (value 0) or Card (value 1)\n",
    "cursor.execute(\"ALTER TABLE Payment MODIFY Type INT NOT NULL AFTER PayTime\")\n",
    "\n",
    "# Drop FOREIGN KEY \n",
    "cursor.execute(\"ALTER TABLE Payment DROP FOREIGN KEY fk_Payment_PaymentService1\")\n",
    "\n",
    "# Change COLUMN PaymentService_idPaymentService for NULL values insertion opportunity\n",
    "cursor.execute(\"ALTER TABLE Payment CHANGE PaymentService_idPaymentService PaymentService_idPaymentService INT AFTER PayTime\")\n",
    "\n",
    "# Return the KEY, now available to insert with NULL values\n",
    "cursor.execute(\"ALTER TABLE Payment ADD FOREIGN KEY fk_Payment_PaymentService1 (PaymentService_idPaymentService) REFERENCES PaymentService(idPaymentService) \")\n",
    "\n",
    "# Ruble coins are not used at all, DOUBLE type is not necessary \n",
    "cursor.execute(\"ALTER TABLE Payment MODIFY Cost INT NOT NULL \")\n",
    "\n",
    "# Rename to exclude mistakes\n",
    "cursor.execute(\"ALTER TABLE Payment CHANGE Type PaymentType INT NOT NULL \")\n",
    "\n",
    "# Delete Cost Column cause it is already in the Order\n",
    "cursor.execute(\"ALTER TABLE Payment DROP COLUMN COST\")\n",
    "~~~~\n",
    "~~~~sql\n",
    "# Add explicitly one row to table PaymentService with idPaymentService = 0\n",
    "INSERT INTO `paymentservice` (idPaymentService, Name, Address, Site) VALUES (0, 'CashService', 'NoAddress', 'NoSite');\n",
    "\n",
    "~~~~"
   ]
  },
  {
   "cell_type": "code",
   "execution_count": 51,
   "metadata": {},
   "outputs": [
    {
     "name": "stdout",
     "output_type": "stream",
     "text": [
      "idPayment, int(11), NO, PRI, None, auto_increment\n",
      "PayTime, datetime, YES, , None, \n",
      "PaymentType, int(11), NO, , None, \n",
      "PaymentService_idPaymentService, int(11), YES, MUL, None, \n",
      "Paycheck, varchar(45), YES, , None, \n",
      "Columns: ( idPayment, PayTime, PaymentType, PaymentService_idPaymentService, Paycheck )\n",
      "query = \"INSERT INTO TaxiTest.Payment (idPayment, PayTime, PaymentType, PaymentService_idPaymentService, Paycheck) VALUES (%s, %s, %s, %s, %s)\"\n",
      "Total number of rows TaxiTest.Payment: [(1200,)].\n"
     ]
    },
    {
     "data": {
      "text/plain": [
       "1200"
      ]
     },
     "execution_count": 51,
     "metadata": {},
     "output_type": "execute_result"
    }
   ],
   "source": [
    "table = DB_NAME + '.' + 'Payment'\n",
    "get_table_review(table)\n",
    "count_rows(table)"
   ]
  },
  {
   "cell_type": "markdown",
   "metadata": {},
   "source": [
    "## Table `Orders`"
   ]
  },
  {
   "cell_type": "markdown",
   "metadata": {},
   "source": [
    "*** Changes ***\n",
    "~~~~python\n",
    "# Order is a keyword\n",
    "cursor.execute(\"ALTER TABLE Taxitest.Order RENAME Orders\")\n",
    "~~~~"
   ]
  },
  {
   "cell_type": "code",
   "execution_count": 52,
   "metadata": {},
   "outputs": [
    {
     "name": "stdout",
     "output_type": "stream",
     "text": [
      "idOrder, int(11), NO, PRI, None, \n",
      "Call_idCall, int(11), NO, MUL, None, \n",
      "Departure_idAddress, int(11), NO, MUL, None, \n",
      "Destination_idAddress, int(11), NO, MUL, None, \n",
      "Taxi_idTaxi, int(11), NO, MUL, None, \n",
      "Payment_idPayment, int(11), NO, MUL, None, \n",
      "StartDatetime, datetime, NO, , None, \n",
      "FinishDatetime, datetime, YES, , None, \n",
      "Cost, int(11), NO, , None, \n",
      "Rate, int(11), YES, , None, \n",
      "Columns: ( idOrder, Call_idCall, Departure_idAddress, Destination_idAddress, Taxi_idTaxi, Payment_idPayment, StartDatetime, FinishDatetime, Cost, Rate )\n",
      "query = \"INSERT INTO TaxiTest.Orders (idOrder, Call_idCall, Departure_idAddress, Destination_idAddress, Taxi_idTaxi, Payment_idPayment, StartDatetime, FinishDatetime, Cost, Rate) VALUES (%s, %s, %s, %s, %s, %s, %s, %s, %s, %s)\"\n",
      "Total number of rows TaxiTest.Orders: [(1200,)].\n"
     ]
    },
    {
     "data": {
      "text/plain": [
       "1200"
      ]
     },
     "execution_count": 52,
     "metadata": {},
     "output_type": "execute_result"
    }
   ],
   "source": [
    "table = DB_NAME + '.' + 'Orders'\n",
    "get_table_review(table)\n",
    "count_rows(table)"
   ]
  },
  {
   "cell_type": "code",
   "execution_count": 53,
   "metadata": {},
   "outputs": [
    {
     "name": "stdout",
     "output_type": "stream",
     "text": [
      "(1, datetime.datetime(2018, 6, 15, 4, 29))\n",
      "2018-06-15 05:19:00\n"
     ]
    }
   ],
   "source": [
    "# Try to extract/insert datetime values\n",
    "q = \"SELECT idCall, datetimeValue FROM PhoneCall\"\n",
    "phone_call_data = select_rows(q)\n",
    "for i in range(len(phone_call_data)):\n",
    "    print(phone_call_data[i])\n",
    "    t = phone_call_data[i][1]\n",
    "    print(t + timedelta(minutes=50))\n",
    "    break"
   ]
  },
  {
   "cell_type": "code",
   "execution_count": 54,
   "metadata": {},
   "outputs": [
    {
     "name": "stdout",
     "output_type": "stream",
     "text": [
      "Total number of rows PaymentService: [(13,)].\n",
      "Total number of rows PhoneCall: [(1500,)].\n",
      "Total number of rows Address: [(1000,)].\n",
      "Total number of rows Taxi: [(500,)].\n",
      "\n",
      "Q: INSERT INTO Orders (idOrder, Call_idCall, Departure_idAddress, Destination_idAddress, Taxi_idTaxi, Payment_idPayment, StartDatetime, FinishDatetime, Cost, Rate) VALUES\n",
      "D: (1200, 688, 633, 279, 13, 1200, datetime.datetime(2018, 7, 27, 18, 55), datetime.datetime(2018, 7, 27, 19, 26), 186, 5)\n",
      "\n",
      "Q: INSERT INTO Payment (idPayment, PaymentType, PaymentService_idPaymentService, Paycheck) VALUES \n",
      "D: (1200, 0, 10, 'MRMEGGVQNL')\n"
     ]
    }
   ],
   "source": [
    "from numpy.random import randint\n",
    "from numpy.random import choice\n",
    "\n",
    "MAX_PAYMENT_SERVICE_ID = count_rows(\"PaymentService\")\n",
    "MAX_CALL_ID = count_rows('PhoneCall')\n",
    "MAX_ADDRESS_ID = count_rows('Address')\n",
    "MAX_TAXI_ID = count_rows('Taxi')\n",
    "\n",
    "TOTAL_ORDERS_AMOUNT = 1200\n",
    "\n",
    "order_from_call = choice(np.arange(1, len(phone_call_data)), TOTAL_ORDERS_AMOUNT, replace=False)\n",
    "order_from_call = sorted(order_from_call)\n",
    "\n",
    "f_order = open('C:/SQL/Orders.sql', 'w')    \n",
    "query_order = \"INSERT INTO Orders (idOrder, Call_idCall, Departure_idAddress, Destination_idAddress, Taxi_idTaxi, Payment_idPayment, StartDatetime, FinishDatetime, Cost, Rate) VALUES\\n\"\n",
    "f_order.write(query_order)\n",
    "data_order = []\n",
    "\n",
    "f_payment = open('C:/SQL/Payment.sql', 'w')\n",
    "query_payment = \"INSERT INTO Payment (idPayment, PaymentType, PaymentService_idPaymentService, Paycheck) VALUES \\n\"\n",
    "f_payment.write(query_payment)\n",
    "data_payment = []\n",
    "\n",
    "q = \"SELECT idCall, datetimeValue FROM PhoneCall ORDER BY datetimeValue\"\n",
    "phone_call_data = select_rows(q)\n",
    "\n",
    "for i in range(TOTAL_ORDERS_AMOUNT):\n",
    "    idOrder = i + 1\n",
    "    idPayment = i + 1\n",
    "    t = order_from_call[i]\n",
    "    Call_idCall = phone_call_data[t][0]\n",
    "    StartDatetime = phone_call_data[t][1] + timedelta(minutes=randint(5, 360))\n",
    "\n",
    "    (Departure_idAddress, Destination_idAddress) = choice(np.arange(1, MAX_ADDRESS_ID), 2, replace=False) \n",
    "    Taxi_idTaxi = randint(1, MAX_TAXI_ID)\n",
    "    FinishDatetime = StartDatetime + timedelta(minutes=randint(5, 45))\n",
    "    Cost = int(6 * (FinishDatetime - StartDatetime).total_seconds() // 60)\n",
    "    Rate = choice([3,4,5], p=[0.2, 0.3, 0.5])\n",
    "    \n",
    "    order_tuple = (idOrder, Call_idCall, Departure_idAddress, Destination_idAddress, Taxi_idTaxi, idPayment, StartDatetime, FinishDatetime, Cost, Rate)\n",
    "    row_order = \"(%s, %s, %s, %s, %s, %s, \\'%s\\',\\'%s\\', %s, %s),\\n\"\n",
    " \n",
    "    # Payment\n",
    "    payment_type = choice([0, 1], p=[0.65, 0.35]) # ['Card', 'Cash']\n",
    "    if payment_type == 0:\n",
    "        id_payment_service = randint(1, MAX_PAYMENT_SERVICE_ID)\n",
    "        paycheck = ''.join(random.choice(string.ascii_uppercase + string.digits) for _ in range(10))\n",
    "        row_payment = \"(%s, %s, %s, \\\"%s\\\"),\\n\"\n",
    "    else:\n",
    "        id_payment_service = 'NULL'\n",
    "        paycheck = 'NULL'\n",
    "        row_payment = \"(%s, %s, %s, %s),\\n\"\n",
    "    payment_tuple = (idPayment, payment_type, id_payment_service, paycheck)\n",
    "    \n",
    "    if i == TOTAL_ORDERS_AMOUNT - 1:\n",
    "        row_order = row_order[:-2] + ';'\n",
    "        row_payment = row_payment[:-2] + ';'\n",
    "    \n",
    "    f_order.write(row_order % order_tuple)\n",
    "    f_payment.write(row_payment % payment_tuple)\n",
    "    \n",
    "f_order.close()\n",
    "f_payment.close()\n",
    "\n",
    "print(\"\\nQ: %sD: %s\" % (query_order, order_tuple))\n",
    "print(\"\\nQ: %sD: %s\" % (query_payment, payment_tuple))"
   ]
  },
  {
   "cell_type": "markdown",
   "metadata": {},
   "source": [
    "# SQL запросы"
   ]
  },
  {
   "cell_type": "code",
   "execution_count": 57,
   "metadata": {},
   "outputs": [
    {
     "name": "stdout",
     "output_type": "stream",
     "text": [
      "Table: address\n",
      "Columns: ( idAddress, City, Street, HouseNumber )\n",
      "Table: car\n",
      "Columns: ( idCar, Lisense, Mark, Model, Insurance_idInsurance, ChildSeat )\n",
      "Table: client\n",
      "Columns: ( idClient, Name, Phone, Password )\n",
      "Table: driver\n",
      "Columns: ( idDriver, Name, DriverLisence, Phone, isWorking )\n",
      "Table: insurance\n",
      "Columns: ( idInsurance, InsCompany_idInsCompany, InsuranceStartDate, InsuranceEndDate )\n",
      "Table: insurancecompany\n",
      "Columns: ( idInsuranceCompany, Address, Phone, Mail, Name )\n",
      "Table: operator\n",
      "Columns: ( idOperator, Name, Phone, Mail )\n",
      "Table: orders\n",
      "Columns: ( idOrder, Call_idCall, Departure_idAddress, Destination_idAddress, Taxi_idTaxi, Payment_idPayment, StartDatetime, FinishDatetime, Cost, Rate )\n",
      "Table: payment\n",
      "Columns: ( idPayment, PayTime, PaymentType, PaymentService_idPaymentService, Paycheck )\n",
      "Table: paymentservice\n",
      "Columns: ( idPaymentService, Name, Address, Site )\n",
      "Table: phonecall\n",
      "Columns: ( idCall, Operator_idOperator, Client_idClient, datetimeValue, Duration )\n",
      "Table: taxi\n",
      "Columns: ( idTaxi, Driver_idDriver, Car_idCar, Current_idAddress, Available, LastUpdate )\n"
     ]
    }
   ],
   "source": [
    "# DESCRIBE taxitest.order;\n",
    "def get_query_result(q):\n",
    "    result = select_rows(q)\n",
    "    for i in range(len(result)):\n",
    "        print(result[i])\n",
    "        if i > 10:\n",
    "            break\n",
    "\n",
    "cursor.execute(\"USE \" + DB_NAME)\n",
    "cursor.execute(\"SHOW Tables\")\n",
    "tables = cursor.fetchall()\n",
    "\n",
    "\n",
    "for table in tables:\n",
    "    print(\"Table:\", str(table[0]))\n",
    "    get_table_review(table[0], only_columns_names=True)\n"
   ]
  },
  {
   "cell_type": "markdown",
   "metadata": {},
   "source": [
    "### Список всех свободных такси"
   ]
  },
  {
   "cell_type": "code",
   "execution_count": 58,
   "metadata": {},
   "outputs": [
    {
     "name": "stdout",
     "output_type": "stream",
     "text": [
      "idTaxi, Driver_idDriver, Car_idCar, Current_idAddress, Available, LatUpdate\n",
      "(338, 1, 23, 593, 1, datetime.datetime(2018, 9, 17, 22, 26, 20))\n",
      "(164, 1, 89, 610, 1, datetime.datetime(2018, 9, 17, 19, 53, 20))\n",
      "(463, 2, 7, 514, 1, datetime.datetime(2018, 9, 17, 19, 37, 20))\n",
      "(379, 2, 34, 94, 1, datetime.datetime(2018, 9, 17, 22, 13, 20))\n",
      "(30, 2, 92, 364, 1, datetime.datetime(2018, 9, 18, 0, 54, 20))\n",
      "(121, 3, 2, 509, 1, datetime.datetime(2018, 9, 18, 4, 12, 20))\n",
      "(215, 3, 51, 416, 1, datetime.datetime(2018, 9, 17, 19, 41, 20))\n",
      "(348, 3, 67, 529, 1, datetime.datetime(2018, 9, 17, 22, 58, 20))\n",
      "(151, 3, 99, 838, 1, datetime.datetime(2018, 9, 18, 3, 24, 20))\n",
      "(38, 4, 31, 389, 1, datetime.datetime(2018, 9, 17, 20, 59, 20))\n",
      "(75, 4, 53, 568, 1, datetime.datetime(2018, 9, 17, 18, 50, 20))\n",
      "(416, 4, 72, 128, 1, datetime.datetime(2018, 9, 18, 4, 22, 20))\n"
     ]
    }
   ],
   "source": [
    "q = \"SELECT * FROM TaxiTest.Taxi WHERE Taxi.Available = 1\"\n",
    "print(\"idTaxi, Driver_idDriver, Car_idCar, Current_idAddress, Available, LatUpdate\")\n",
    "get_query_result(q)"
   ]
  },
  {
   "cell_type": "markdown",
   "metadata": {},
   "source": [
    "### Список всех свободных такси с указанием авто"
   ]
  },
  {
   "cell_type": "code",
   "execution_count": 59,
   "metadata": {},
   "outputs": [
    {
     "name": "stdout",
     "output_type": "stream",
     "text": [
      "idTaxi, Mark, Model, Lisense, ChildSeat (0/1)\n",
      "(338, 'Citroen', 'Berlingo', '3EGBSVS', 0)\n",
      "(164, 'Renault', 'Trafic', 'W5BINWW', 1)\n",
      "(463, 'Honda', 'CR-V', 'ZB12ELJ', 0)\n",
      "(379, 'Citroen', 'C1', '3OGNBSE', 1)\n",
      "(30, 'Renault', 'Kangoo', '04HS9CT', 0)\n",
      "(121, 'Mercedes', 'GLA', 'ZMTSOWR', 0)\n",
      "(215, 'Peugeot', 'Partner', 'N2PVBQQ', 1)\n",
      "(348, 'Volkswagen', 'Transporter', 'AWNK219', 0)\n",
      "(151, 'Mercedes', 'Sprinter', 'NULSZK7', 0)\n",
      "(38, 'Skoda', 'Octavia', '8HC0G2Z', 1)\n",
      "(75, 'Toyota', 'RAV4', '6025U7Z', 1)\n",
      "(416, 'Peugeot', '3008', '0NDF6UE', 1)\n"
     ]
    }
   ],
   "source": [
    "q = \"SELECT idTaxi, Mark, Model, Lisense, ChildSeat FROM TaxiTest.Taxi JOIN Car ON Car_idCar = idCar WHERE Taxi.Available = 1\"\n",
    "\n",
    "print(\"idTaxi, Mark, Model, Lisense, ChildSeat (0/1)\")\n",
    "get_query_result(q)"
   ]
  },
  {
   "cell_type": "markdown",
   "metadata": {},
   "source": [
    "### Список всех клиентов, которых обслуживал авто (входной параметр – номер Авто)"
   ]
  },
  {
   "cell_type": "code",
   "execution_count": 65,
   "metadata": {},
   "outputs": [
    {
     "name": "stdout",
     "output_type": "stream",
     "text": [
      "idClient, Phone, Name\n",
      "(2736, '+7(951)4491502', 'Святослав Комаров')\n",
      "(1239, '+7(841)3053157', 'Лев Воронин')\n",
      "(1147, '+7(875)7677765', 'Мирослав Коновалов')\n",
      "(1041, '+7(761)5678575', 'Рустам Кузин')\n",
      "(4363, '+7(209)2277892', 'Эдуард Серов')\n",
      "(3703, '+7(397)6720811', 'Семен Ларин')\n",
      "(3893, '+7(589)6133903', 'Валерий Иванов')\n",
      "(2574, '+7(210)1375577', 'Ильяс Емельянов')\n",
      "(3146, '+7(680)2392000', 'Григорий Молчанов')\n",
      "(4795, '+7(614)7039251', 'Виктор Моисеев')\n",
      "(1478, '+7(726)5952862', 'Ильяс Прокофьев')\n",
      "(2731, '+7(773)0999344', 'Константин Михайлов')\n"
     ]
    }
   ],
   "source": [
    "q = \"SELECT Client_idClient, Phone, Name FROM (\\\n",
    "        SELECT DISTINCT Client_idClient FROM Client, PhoneCall JOIN Orders \\\n",
    "        ON PhoneCall.idCall = Orders.Call_idCall WHERE Orders.Taxi_idTaxi IN (\\\n",
    "            SELECT idTaxi FROM Taxi JOIN Car ON Taxi.Car_idCar = Car.idCar \\\n",
    "            WHERE Car.Lisense = 'ZMTSOWR'\\\n",
    "        )\\\n",
    "    ) AS T, Client WHERE Client.idClient = T.Client_idClient\"\n",
    "\n",
    "print(\"idClient, Phone, Name\")\n",
    "get_query_result(q)"
   ]
  },
  {
   "cell_type": "markdown",
   "metadata": {},
   "source": [
    "### Список всех авто, которыми пользовался клиент в интервале времени (входные параметры – телефон клиента, дата начала и дата окончания)"
   ]
  },
  {
   "cell_type": "code",
   "execution_count": 67,
   "metadata": {},
   "outputs": [
    {
     "name": "stdout",
     "output_type": "stream",
     "text": [
      "Client_idClient, COUNT(Client`s trips amount)\n",
      "(1385, 4)\n",
      "(1727, 4)\n",
      "(3476, 3)\n",
      "(325, 3)\n",
      "(1060, 3)\n",
      "(3893, 3)\n",
      "(1164, 3)\n",
      "(1815, 3)\n",
      "(2991, 3)\n",
      "(3325, 3)\n",
      "(150, 3)\n",
      "(768, 3)\n"
     ]
    }
   ],
   "source": [
    "# Sort Clients by trips they had\n",
    "q = \"SELECT Client_idClient, COUNT(*) AS TotalCalls FROM PhoneCall \\\n",
    "     GROUP BY Client_idClient ORDER BY TotalCalls DESC\"\n",
    "\n",
    "print(\"Client_idClient, COUNT(Client`s trips amount)\")\n",
    "get_query_result(q)"
   ]
  },
  {
   "cell_type": "code",
   "execution_count": 66,
   "metadata": {},
   "outputs": [
    {
     "name": "stdout",
     "output_type": "stream",
     "text": [
      "Client_idClient, Name, Phone, TotalCalls\n",
      "(1385, 'Гордей Николаев', '+7(726)5384089', 4)\n",
      "(1727, 'Демид Левин', '+7(376)6414991', 4)\n",
      "(3476, 'Михаил Ларин', '+7(314)0212667', 3)\n",
      "(325, 'Рамиль Кириллов', '+7(537)2085180', 3)\n",
      "(1060, 'Станислав Бородин', '+7(929)6680229', 3)\n",
      "(3893, 'Валерий Иванов', '+7(589)6133903', 3)\n",
      "(1164, 'Станислав Кириллов', '+7(226)3091976', 3)\n",
      "(1815, 'Егор Соловьев', '+7(721)5296773', 3)\n",
      "(2991, 'Игнат Юдин', '+7(382)0077846', 3)\n",
      "(3325, 'Геннадий Дроздов', '+7(421)0561994', 3)\n",
      "(150, 'Дмитрий Фадеев', '+7(526)5981637', 3)\n",
      "(768, 'Никита Герасимов', '+7(381)7810300', 3)\n"
     ]
    }
   ],
   "source": [
    "# Sort Clients by trips they had and get thir names and phones\n",
    "q = \"SELECT Client_idClient, Name, Phone, TotalCalls FROM Client, (\\\n",
    "        SELECT Client_idClient, COUNT(*) AS TotalCalls FROM PhoneCall GROUP BY Client_idClient\\\n",
    "    ) AS T WHERE idClient = Client_idClient ORDER BY TotalCalls DESC\"\n",
    "\n",
    "print(\"Client_idClient, Name, Phone, TotalCalls\")\n",
    "get_query_result(q)"
   ]
  },
  {
   "cell_type": "code",
   "execution_count": 68,
   "metadata": {},
   "outputs": [
    {
     "name": "stdout",
     "output_type": "stream",
     "text": [
      "idOrder\n",
      "(796,)\n",
      "(313,)\n",
      "(16,)\n",
      "(64,)\n"
     ]
    }
   ],
   "source": [
    "# Get Orders of Client with idClient = 1385\n",
    "q = \"SELECT idOrder FROM PhoneCall Left JOIN Orders ON PhoneCall.idCall = Call_idCall WHERE Client_idClient = 1385\"\n",
    "\n",
    "print(\"idOrder\")\n",
    "get_query_result(q)"
   ]
  },
  {
   "cell_type": "code",
   "execution_count": 69,
   "metadata": {},
   "outputs": [
    {
     "name": "stdout",
     "output_type": "stream",
     "text": [
      "(1385,)\n"
     ]
    }
   ],
   "source": [
    "# Just checking the Phone and idClient accordance \n",
    "q = \"SELECT idClient FROM Client WHERE Client.Phone='+7(726)5384089'\"\n",
    "get_query_result(q)"
   ]
  },
  {
   "cell_type": "code",
   "execution_count": 72,
   "metadata": {},
   "outputs": [
    {
     "name": "stdout",
     "output_type": "stream",
     "text": [
      "idOrder, Call_idCall, Taxi_idTaxi, StartDatetime, FinishDatetime, Cost, Rate\n",
      "(796, 96, 57, datetime.datetime(2018, 5, 20, 12, 33), datetime.datetime(2018, 5, 20, 12, 38), 30, 5)\n",
      "(313, 536, 310, datetime.datetime(2018, 3, 1, 12, 4), datetime.datetime(2018, 3, 1, 12, 21), 102, 5)\n",
      "(16, 646, 224, datetime.datetime(2018, 1, 2, 17, 20), datetime.datetime(2018, 1, 2, 17, 56), 216, 5)\n",
      "(64, 1311, 44, datetime.datetime(2018, 1, 12, 17, 59), datetime.datetime(2018, 1, 12, 18, 35), 216, 4)\n"
     ]
    }
   ],
   "source": [
    "# Get detailed list of orders\n",
    "q = \"SELECT idOrder, Call_idCall, Taxi_idTaxi, StartDatetime, FinishDatetime, Cost, Rate FROM Orders WHERE idOrder IN (\\\n",
    "        SELECT idOrder FROM PhoneCall Left JOIN Orders ON PhoneCall.idCall = Orders.Call_idCall WHERE Client_idClient IN (\\\n",
    "            SELECT idClient FROM Client WHERE Phone='+7(726)5384089' \\\n",
    "        )\\\n",
    "    )\"\n",
    "print(\"idOrder, Call_idCall, Taxi_idTaxi, StartDatetime, FinishDatetime, Cost, Rate\")\n",
    "get_query_result(q)"
   ]
  },
  {
   "cell_type": "code",
   "execution_count": 70,
   "metadata": {},
   "outputs": [
    {
     "name": "stdout",
     "output_type": "stream",
     "text": [
      "idOrder, Call_idCall, Taxi_idTaxi, StartDatetime, FinishDatetime, Cost, Rate\n",
      "(64, 1311, 44, datetime.datetime(2018, 1, 12, 17, 59), datetime.datetime(2018, 1, 12, 18, 35), 216, 4)\n",
      "(313, 536, 310, datetime.datetime(2018, 3, 1, 12, 4), datetime.datetime(2018, 3, 1, 12, 21), 102, 5)\n"
     ]
    }
   ],
   "source": [
    "# Get detailed list of orders with sort on datetime\n",
    "q = \"SELECT idOrder, Call_idCall, Taxi_idTaxi, StartDatetime, FinishDatetime, Cost, Rate\\\n",
    "     FROM Orders WHERE idOrder IN (\\\n",
    "        SELECT idOrder FROM PhoneCall Left JOIN Orders ON PhoneCall.idCall = Call_idCall WHERE Client_idClient IN (\\\n",
    "            SELECT idClient FROM Client WHERE Phone='+7(726)5384089' \\\n",
    "        )\\\n",
    "    ) AND StartDatetime > '2018-01-03 00:00:00' AND FinishDatetime < '2018-05-01 00:00:00' ORDER BY StartDatetime\"\n",
    "\n",
    "print(\"idOrder, Call_idCall, Taxi_idTaxi, StartDatetime, FinishDatetime, Cost, Rate\")\n",
    "get_query_result(q)"
   ]
  },
  {
   "cell_type": "code",
   "execution_count": 71,
   "metadata": {},
   "outputs": [
    {
     "name": "stdout",
     "output_type": "stream",
     "text": [
      "idOrder, Call_idCall, Taxi_idTaxi, Car_idCar, StartDatetime, FinishDatetime, Cost, Rate\n",
      "(64, 1311, 44, 17, datetime.datetime(2018, 1, 12, 17, 59), datetime.datetime(2018, 1, 12, 18, 35), 216, 4)\n",
      "(313, 536, 310, 16, datetime.datetime(2018, 3, 1, 12, 4), datetime.datetime(2018, 3, 1, 12, 21), 102, 5)\n"
     ]
    }
   ],
   "source": [
    "# Get detailed list of orders with sort on datetime with CarId\n",
    "q = \"SELECT idOrder, Call_idCall, Taxi_idTaxi, Car_idCar, StartDatetime, FinishDatetime, Cost, Rate FROM \\\n",
    "        (SELECT idOrder, Call_idCall, Taxi_idTaxi, StartDatetime, FinishDatetime, Cost, Rate FROM Orders WHERE idOrder IN \\\n",
    "            (SELECT idOrder FROM PhoneCall Left JOIN Orders ON PhoneCall.idCall = Call_idCall WHERE Client_idClient IN \\\n",
    "                (SELECT idClient FROM Client WHERE Phone='+7(726)5384089')) AND StartDatetime > '2018-01-03 00:00:00' AND FinishDatetime < '2018-05-01 00:00:00' \\\n",
    "        ) AS T2 JOIN Taxi ON T2.Taxi_idTaxi = Taxi.idTaxi\"\n",
    "\n",
    "print(\"idOrder, Call_idCall, Taxi_idTaxi, Car_idCar, StartDatetime, FinishDatetime, Cost, Rate\")\n",
    "get_query_result(q)"
   ]
  },
  {
   "cell_type": "code",
   "execution_count": 33,
   "metadata": {},
   "outputs": [
    {
     "name": "stdout",
     "output_type": "stream",
     "text": [
      "idOrder, Lisense, Model, Mark, StartDatetime, FinishDatetime, Cost, Rate\n",
      "(64, '1I9C9N5', 'CLA', 'Mercedes', datetime.datetime(2018, 1, 12, 17, 59), datetime.datetime(2018, 1, 12, 18, 35), 216, 4)\n",
      "(313, 'KSIY6KD', 'Cee’d', 'Kia', datetime.datetime(2018, 3, 1, 12, 4), datetime.datetime(2018, 3, 1, 12, 21), 102, 5)\n"
     ]
    }
   ],
   "source": [
    "# Get detailed list of orders with sort on datetime with CarId and cars \n",
    "# Only valuable aattributes chosed\n",
    "\n",
    "q = \"SELECT idOrder, Lisense, Model, Mark, StartDatetime, FinishDatetime, Cost, Rate FROM (\\\n",
    "        SELECT idOrder, Call_idCall, Taxi_idTaxi, Car_idCar, StartDatetime, FinishDatetime, Cost, Rate FROM (\\\n",
    "            SELECT idOrder, Call_idCall, Taxi_idTaxi, StartDatetime, FinishDatetime, Cost, Rate FROM Orders WHERE idOrder IN (\\\n",
    "                SELECT idOrder FROM PhoneCall Left JOIN Orders ON PhoneCall.idCall = Call_idCall WHERE Client_idClient IN (\\\n",
    "                    SELECT idClient FROM Client WHERE Phone='+7(726)5384089'\\\n",
    "                )\\\n",
    "            ) AND StartDatetime > '2018-01-03 00:00:00' AND FinishDatetime < '2018-05-01 00:00:00' \\\n",
    "        ) AS T2 JOIN Taxi ON T2.Taxi_idTaxi = Taxi.idTaxi \\\n",
    "    ) AS T3 JOIN Car ON Car.idCar = T3.Car_idCar\"\n",
    "\n",
    "print(\"idOrder, Lisense, Model, Mark, StartDatetime, FinishDatetime, Cost, Rate\")\n",
    "get_query_result(q)"
   ]
  },
  {
   "cell_type": "markdown",
   "metadata": {},
   "source": [
    "### Список всех заказов, которые обработаны оператором (входной параметр id-оператора) \n"
   ]
  },
  {
   "cell_type": "code",
   "execution_count": 34,
   "metadata": {},
   "outputs": [
    {
     "name": "stdout",
     "output_type": "stream",
     "text": [
      "idOrder, Cost, Rate\n",
      "(1061, 108, 5)\n",
      "(945, 216, 4)\n",
      "(1196, 90, 5)\n",
      "(589, 252, 5)\n",
      "(1038, 60, 4)\n",
      "(714, 174, 4)\n",
      "(348, 132, 5)\n",
      "(109, 54, 4)\n",
      "(752, 78, 4)\n",
      "(856, 246, 5)\n",
      "(486, 174, 3)\n",
      "(435, 168, 5)\n"
     ]
    }
   ],
   "source": [
    "q = \"SELECT idOrder, Cost, Rate FROM Orders, PhoneCall WHERE Orders.Call_idCall IN \\\n",
    "    (SELECT PhoneCall.idCall FROM PhoneCall WHERE Operator_idOperator = 10)\"\n",
    "\n",
    "print(\"idOrder, Cost, Rate\")\n",
    "get_query_result(q)"
   ]
  },
  {
   "cell_type": "code",
   "execution_count": 35,
   "metadata": {},
   "outputs": [],
   "source": [
    "cursor.close()\n",
    "cnx.close()"
   ]
  },
  {
   "cell_type": "markdown",
   "metadata": {},
   "source": [
    "# The end."
   ]
  }
 ],
 "metadata": {
  "kernelspec": {
   "display_name": "Python 3",
   "language": "python",
   "name": "python3"
  },
  "language_info": {
   "codemirror_mode": {
    "name": "ipython",
    "version": 3
   },
   "file_extension": ".py",
   "mimetype": "text/x-python",
   "name": "python",
   "nbconvert_exporter": "python",
   "pygments_lexer": "ipython3",
   "version": "3.6.5"
  }
 },
 "nbformat": 4,
 "nbformat_minor": 2
}
