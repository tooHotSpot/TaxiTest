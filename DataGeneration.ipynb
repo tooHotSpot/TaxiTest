{
 "cells": [
  {
   "cell_type": "code",
   "execution_count": null,
   "metadata": {},
   "outputs": [],
   "source": [
    "import os\n",
    "import numpy as np\n",
    "import codecs\n",
    "import json\n",
    "from datetime import datetime, date, timedelta\n",
    "import mysql.connector\n",
    "from mysql.connector import errorcode\n",
    "\n",
    "DB_NAME = \"TaxiTest\"\n",
    "config = {\n",
    "        'user': 'root',\n",
    "        'password': '9090',\n",
    "        'host': '127.0.0.1',\n",
    "        'database': 'taxitest',\n",
    "        'raise_on_warnings': True,\n",
    "        'use_pure': False\n",
    "}\n",
    "\n",
    "cnx = mysql.connector.connect(**config)\n",
    "cnx.autocommit = True\n",
    "cursor = cnx.cursor()\n"
   ]
  },
  {
   "cell_type": "code",
   "execution_count": null,
   "metadata": {},
   "outputs": [],
   "source": [
    "query = \"SHOW DATABASES\"\n",
    "cursor.execute(query)\n",
    "rows = cursor.fetchall()\n",
    "print(\"Total number of databases:\", cursor.rowcount)\n",
    "for row in rows:\n",
    "    print(row)"
   ]
  },
  {
   "cell_type": "code",
   "execution_count": null,
   "metadata": {
    "scrolled": true
   },
   "outputs": [],
   "source": [
    "# DESCRIBE taxitest.order;\n",
    "\n",
    "cursor.execute(\"USE \" + DB_NAME)\n",
    "cursor.execute(\"SHOW Tables\")\n",
    "tables = cursor.fetchall()\n",
    "\n",
    "\n",
    "for table in tables:\n",
    "    print(\"Table:\", str(table[0]))\n",
    "    \n",
    "    cursor.execute(\"DESCRIBE %s.%s\" % (DB_NAME, table[0]))\n",
    "    columns_attributes = cursor.fetchall()\n",
    "    \n",
    "    for column_attributes_tuple in columns_attributes:\n",
    "        column_attributes = list(column_attributes_tuple)\n",
    "        column_attributes[1] = str(column_attributes[1])[2:-1]\n",
    "        print(', '.join([str(a) for a in column_attributes]))\n",
    "    \n",
    "    print(\"\\n\")\n",
    "    \n"
   ]
  },
  {
   "cell_type": "code",
   "execution_count": null,
   "metadata": {},
   "outputs": [],
   "source": [
    "cursor.close()\n",
    "cnx.close()"
   ]
  },
  {
   "cell_type": "markdown",
   "metadata": {},
   "source": [
    "# Start"
   ]
  },
  {
   "cell_type": "code",
   "execution_count": null,
   "metadata": {},
   "outputs": [],
   "source": [
    "# Getting streets ordered list\n",
    "\n",
    "file = \"CrawledStreets.txt\"\n",
    "streets = set()\n",
    "with codecs.open(file, 'r', encoding='utf-8') as f:\n",
    "    for line in f:\n",
    "        streets.add(line.split(' ')[0])\n",
    "\n",
    "# Choose unique\n",
    "all_streets = sorted(list(streets))\n",
    "\n",
    "streets = []\n",
    "for street in all_streets:\n",
    "    if len(street) >= 5:\n",
    "        streets.append(street)\n",
    "\n",
    "with open('Streets.json', 'w') as outfile:\n",
    "    json.dump(streets, outfile)"
   ]
  },
  {
   "cell_type": "code",
   "execution_count": null,
   "metadata": {},
   "outputs": [],
   "source": [
    "# Getting InsuranceCompanies list and saving in json \n",
    "file = \"InsuranceCompanies\\Companies.txt\"\n",
    "\n",
    "names = []\n",
    "with codecs.open(file, 'r', encoding='utf-8') as f:\n",
    "    for line in f:\n",
    "        names.append(line[:-2])\n",
    "        \n",
    "with open('InsuranceCompanies\\Companies.json', 'w') as outfile:\n",
    "    json.dump(names, outfile)\n"
   ]
  },
  {
   "cell_type": "markdown",
   "metadata": {},
   "source": [
    "# BASIC FUNCTIONS FOR ALL TABLES"
   ]
  },
  {
   "cell_type": "code",
   "execution_count": null,
   "metadata": {},
   "outputs": [],
   "source": [
    "def get_table_review(table, only_columns_names = False):\n",
    "    columns_names = []\n",
    "    print(\"Reviewing \", table)\n",
    "    q = \"DESCRIBE \" + table\n",
    "    cursor.execute(q)\n",
    "    columns_attributes = cursor.fetchall()\n",
    "    for column_attributes_tuple in columns_attributes:\n",
    "        column_attributes = list(column_attributes_tuple)\n",
    "        column_attributes[1] = str(column_attributes[1])[2:-1]\n",
    "        columns_names.append(column_attributes[0])\n",
    "        if not only_columns_names:\n",
    "            print(', '.join([str(a) for a in column_attributes]))\n",
    "    \n",
    "    joined = ', '.join(columns_names)\n",
    "    joined_values = ', '.join('%s' for c in columns_names)\n",
    "    print(\"\\nColumns: (\", joined, \")\")\n",
    "    insert_string = \"query = \\\"INSERT INTO %s (%s) VALUES (%s)\\\"\" % (table, joined, joined_values)\n",
    "    print(insert_string)\n",
    "    \n",
    "def count_rows(table):\n",
    "    q = \"SELECT COUNT(*) FROM \" + table\n",
    "    cursor.execute(q)\n",
    "    log = cursor.fetchall()\n",
    "    print(\"Total number of rows \", log)\n",
    "    return int(log[0][0])\n",
    "\n",
    "def delete_all_rows(table):\n",
    "    q = \"DELETE FROM \" + table\n",
    "    cursor.execute(q) \n",
    "    \n",
    "def select_rows(table, q):\n",
    "    cursor.execute(q)\n",
    "    return cursor.fetchall()\n",
    "\n",
    "def insert_many_rows(table, q, data):\n",
    "    try:\n",
    "        cursor.executemany(q, data)\n",
    "        log = cursor.fetchall()\n",
    "        print(\"Result: \" + log)\n",
    "    except mysql.connector.Error as err:\n",
    "        print(err.msg)"
   ]
  },
  {
   "cell_type": "markdown",
   "metadata": {},
   "source": [
    "## Table `insurancecompany`"
   ]
  },
  {
   "cell_type": "code",
   "execution_count": null,
   "metadata": {},
   "outputs": [],
   "source": [
    "table = DB_NAME + \".\" + \"insurancecompany\""
   ]
  },
  {
   "cell_type": "code",
   "execution_count": null,
   "metadata": {},
   "outputs": [],
   "source": [
    "get_table_review(table)"
   ]
  },
  {
   "cell_type": "code",
   "execution_count": null,
   "metadata": {},
   "outputs": [],
   "source": [
    "count_rows(table)"
   ]
  },
  {
   "cell_type": "code",
   "execution_count": null,
   "metadata": {},
   "outputs": [],
   "source": [
    "delete_all_rows(table)"
   ]
  },
  {
   "cell_type": "code",
   "execution_count": null,
   "metadata": {},
   "outputs": [],
   "source": [
    "# Data generation\n",
    "\n",
    "with open('InsuranceCompanies/Companies.json') as f:\n",
    "    names = json.load(f)\n",
    "\n",
    "total_number = len(names)\n",
    "print(\"len(names): \", len(names))\n",
    "idInsuranceCompany = np.arange(total_number)\n",
    "\n",
    "with open('Streets.json') as f:\n",
    "    streets = json.load(f)\n",
    "    streets = np.random.choice(streets, total_number, replace=False)\n",
    "\n",
    "query = \"INSERT INTO insurancecompany (idInsuranceCompany, Address, Phone, Mail, Name) VALUES (%s, %s, %s, %s, %s)\"\n",
    "data = []\n",
    "\n",
    "for i in range(total_number):\n",
    "    idInsuranceCompany = i + 1\n",
    "    address = \"Kazan, \" + streets[i] + \", \" + str(np.random.randint(1, 200))\n",
    "    phone = '+7(843)' + '{:07}'.format(np.random.randint(0, 9999999))\n",
    "    name = names[i]\n",
    "    mail = name.lower().replace(\" \", \"\") + '@gmail.com'\n",
    "    data.append((idInsuranceCompany, address, phone, mail, name))\n",
    "\n",
    "print(\"Q: \", query)\n",
    "print(\"D: \", data[0])\n",
    "\n",
    "insert_many_rows(table, query, data)"
   ]
  },
  {
   "cell_type": "markdown",
   "metadata": {},
   "source": [
    "## Table `insurance`"
   ]
  },
  {
   "cell_type": "markdown",
   "metadata": {},
   "source": [
    "*** Changes ***\n",
    "~~~~python\n",
    "# Modify type\n",
    "cursor.execute(\"ALTER TABLE \" + table + \" MODIFY InsuranceStartDate DATE\")\n",
    "cursor.execute(\"ALTER TABLE \" + table + \" MODIFY InsuranceEndDate DATE\")\n",
    "\n",
    "# Change order\n",
    "cursor.execute(\"ALTER TABLE \" + table + \" CHANGE COLUMN InsuranceEndDate InsuranceEndDate Date AFTER InsuranceStartDate\")\n",
    "~~~~"
   ]
  },
  {
   "cell_type": "code",
   "execution_count": null,
   "metadata": {},
   "outputs": [],
   "source": [
    "table = DB_NAME + \".\" + \"insurance\""
   ]
  },
  {
   "cell_type": "code",
   "execution_count": null,
   "metadata": {},
   "outputs": [],
   "source": [
    "get_table_review(table)"
   ]
  },
  {
   "cell_type": "code",
   "execution_count": null,
   "metadata": {},
   "outputs": [],
   "source": [
    "count_rows(table)"
   ]
  },
  {
   "cell_type": "code",
   "execution_count": null,
   "metadata": {},
   "outputs": [],
   "source": [
    "delete_all_rows(table)"
   ]
  },
  {
   "cell_type": "code",
   "execution_count": null,
   "metadata": {},
   "outputs": [],
   "source": [
    "# Data generation\n",
    "\n",
    "query = \"INSERT INTO TaxiTest.insurance (idInsurance, InsCompany_idInsCompany, InsuranceEndDate, InsuranceStartDate) VALUES (%s , %s , %s , %s )\"\n",
    "data = []\n",
    "\n",
    "total_number = 100\n",
    "\n",
    "for i in range(total_number):\n",
    "    idInsurance = i + 1 \n",
    "    InsCompany_idInsCompany = np.random.randint(1, 30)\n",
    "    InsuranceStartDate = date(2014 + np.random.randint(-3, 3), np.random.randint(1, 10), np.random.randint(1, 25))\n",
    "    InsuranceEndDate = InsuranceStartDate + timedelta(days=25*int(np.random.choice(np.array([6, 8, 12]))))\n",
    "    data.append((idInsurance, InsCompany_idInsCompany, InsuranceStartDate, InsuranceEndDate))\n",
    "    #print(data[i])\n",
    "    \n",
    "print(\"Q: \", query)\n",
    "print(\"D: \", data[0])\n",
    "\n",
    "insert_many_rows(table, query, data)"
   ]
  },
  {
   "cell_type": "markdown",
   "metadata": {},
   "source": [
    "## Table `car`"
   ]
  },
  {
   "cell_type": "markdown",
   "metadata": {},
   "source": [
    "*** Changes ***\n",
    "~~~~python\n",
    "# Modify type\n",
    "cursor.execute(\"ALTER TABLE \" + table + \" MODIFY ChildSeat INT\")\n",
    "~~~~\n"
   ]
  },
  {
   "cell_type": "code",
   "execution_count": null,
   "metadata": {},
   "outputs": [],
   "source": [
    "# Load the data from stored text file\n",
    "# 1. Make json file\n",
    "file = \"Car/MarkModel.txt\"\n",
    "cars = set()\n",
    "with codecs.open(file, 'r', encoding='utf-8') as f:\n",
    "    for line in f:\n",
    "        cars.add(line[:-2])\n",
    "\n",
    "# Choose unique\n",
    "cars = sorted(list(cars))\n",
    "with open('Car/Cars.json', 'w') as outfile:\n",
    "    json.dump(cars, outfile)\n"
   ]
  },
  {
   "cell_type": "code",
   "execution_count": null,
   "metadata": {},
   "outputs": [],
   "source": [
    "table = DB_NAME + \".\" + \"car\"\n",
    "get_table_review(table)\n",
    "count_rows(table)"
   ]
  },
  {
   "cell_type": "code",
   "execution_count": null,
   "metadata": {},
   "outputs": [],
   "source": [
    "import string\n",
    "import random\n",
    "\n",
    "# Data generation\n",
    "query = \"INSERT INTO TaxiTest.car (idCar, Lisense, Mark, Model, Insurance_idInsurance, ChildSeat) VALUES (%s, %s, %s, %s, %s, %s)\"\n",
    "data = []\n",
    "\n",
    "total_number = 100\n",
    "# Get insurances (better in random order), we have 100 insurances -> total_number = 100 of cars available\n",
    "# Warning: np.arange(a) return from 0 to a - 1\n",
    "# Writing Insurance_idInsurance which doesn't exist in insurance is restricted - QUERY will not be executed\n",
    "insurances = np.arange(1, total_number + 1)\n",
    "np.random.shuffle(insurances)\n",
    "\n",
    "# Load cars\n",
    "with open(\"Car/Cars.json\") as f:\n",
    "    cars = json.load(f)\n",
    "\n",
    "# Generate UNIQUE car licenses\n",
    "licenses = set()\n",
    "alphanums = string.ascii_uppercase + string.digits\n",
    "while len(licenses) != 100:\n",
    "    licenses.add(''.join(random.choice(alphanums) for _ in range(7)))\n",
    "licenses = list(licenses)\n",
    "\n",
    "for i in range(total_number):\n",
    "    idCar = i + 1 \n",
    "    Lisense = licenses[i]\n",
    "    (Mark, Model) = np.random.choice(cars).split(' ')\n",
    "    # Failed processing format-parameters; Python 'int32' cannot be converted to a MySQL type\n",
    "    Insurance_idInsurance = int(insurances[i])\n",
    "    ChildSeat = int(np.random.choice([0, 1]))\n",
    "    data.append((idCar, Lisense, Mark, Model, Insurance_idInsurance, ChildSeat))\n",
    "    # print(data[i])\n",
    "    \n",
    "print(\"Q: \", query)\n",
    "print(\"D: \", data[0])\n",
    "\n",
    "#insert_many_rows(table, query, data)"
   ]
  },
  {
   "cell_type": "markdown",
   "metadata": {},
   "source": [
    "## Table `driver` "
   ]
  },
  {
   "cell_type": "markdown",
   "metadata": {},
   "source": [
    "*** Changes ***\n",
    "~~~~python\n",
    "# Add isDeleted to check if driver working or not\n",
    "cursor.execute(\"ALTER TABLE \" + table + \" ADD COLUMN isDeleted INT NOT NULL\")\n",
    "~~~~"
   ]
  },
  {
   "cell_type": "code",
   "execution_count": null,
   "metadata": {},
   "outputs": [],
   "source": [
    "table = DB_NAME + '.' + 'driver' \n",
    "get_table_review(table)\n",
    "count_rows(table)"
   ]
  },
  {
   "cell_type": "code",
   "execution_count": null,
   "metadata": {},
   "outputs": [],
   "source": [
    "delete_all_rows(table)"
   ]
  },
  {
   "cell_type": "code",
   "execution_count": null,
   "metadata": {},
   "outputs": [],
   "source": [
    "total_number = 75\n",
    "query = \"INSERT INTO TaxiTest.driver (idDriver, Name, DriverLisence, Phone, isDeleted) VALUES (%s, %s, %s, %s, %s)\"\n",
    "\n",
    "# Get all possible names_surnames combinations\n",
    "all_names_surnames = []\n",
    "with codecs.open(\"AllCombinations.txt\", 'r', encoding='utf-8') as f:\n",
    "    for line in f:\n",
    "        all_names_surnames.append(line[:-2])\n",
    "\n",
    "# Generate UNIQUE driver licenses\n",
    "licenses = set()\n",
    "while len(licenses) != total_number:\n",
    "    part1 = ''.join(random.choice(string.ascii_uppercase) for _ in range(7))\n",
    "    part2 = ''.join(random.choice(string.digits) for _ in range(4))\n",
    "    licenses.add(part1 + part2)\n",
    "licenses = list(licenses)\n",
    "\n",
    "\n",
    "# Get names\n",
    "data = []\n",
    "names = list(np.random.choice(all_names_surnames, size=total_number))\n",
    "for i in range(total_number):\n",
    "    idDriver = i + 1\n",
    "    # Failed processing format-parameters; Python 'str_' cannot be converted to a MySQL type\n",
    "    Name = str(names[i])\n",
    "    DriverLisence = licenses[i]\n",
    "    Phone = '+7({}){:07}'.format(np.random.randint(50, 990), np.random.randint(0, 9999999))\n",
    "    isDeleted = int(np.random.choice([0, 1], p=[0.15, 0.85]))\n",
    "    data.append((idDriver, Name, DriverLisence, Phone, isDeleted))\n",
    "    \n",
    "print(\"Q: \", query)\n",
    "print(\"D: \", data[0])\n",
    "\n",
    "insert_many_rows(table, query, data)"
   ]
  },
  {
   "cell_type": "markdown",
   "metadata": {},
   "source": [
    "## Table `address`"
   ]
  },
  {
   "cell_type": "markdown",
   "metadata": {},
   "source": [
    "*** Changes ***\n",
    "~~~~python\n",
    "# Drop GeoPoint\n",
    "cursor.execute(\"ALTER TABLE \" + table + \" DROP COLUMN GeoPoint\n",
    "# Delete index on UNIQUE city\n",
    "cursor.execute(\"ALTER TABLE \" + table + \" DROP INDEX City_UNIQUE\")\n",
    "~~~~"
   ]
  },
  {
   "cell_type": "code",
   "execution_count": null,
   "metadata": {},
   "outputs": [],
   "source": [
    "table = DB_NAME + '.' + 'address' \n",
    "get_table_review(table)\n",
    "count_rows(table)"
   ]
  },
  {
   "cell_type": "code",
   "execution_count": null,
   "metadata": {},
   "outputs": [],
   "source": [
    "delete_all_rows(table)"
   ]
  },
  {
   "cell_type": "code",
   "execution_count": null,
   "metadata": {},
   "outputs": [],
   "source": [
    "total_number = 1000\n",
    "query = \"INSERT INTO TaxiTest.address (idAddress, City, Street, HouseNumber) VALUES (%s, %s, %s, %s)\"\n",
    "\n",
    "City = \"Kazan\"\n",
    "# Get all streets\n",
    "with open('Streets.json') as f:\n",
    "    streets = json.load(f)\n",
    "    streets = np.random.choice(streets, total_number, replace=False)\n",
    "\n",
    "# Get names\n",
    "data = []\n",
    "for i in range(total_number):\n",
    "    idAddress = i + 1\n",
    "    Street = str(streets[i])\n",
    "    HouseNumber = int(random.randint(1, 100))\n",
    "    data.append((idAddress, City, Street, HouseNumber))\n",
    "    \n",
    "print(\"Q: \", query)\n",
    "print(\"D: \", data[0])\n",
    "\n",
    "insert_many_rows(table, query, data)"
   ]
  },
  {
   "cell_type": "markdown",
   "metadata": {},
   "source": [
    "## Table `taxi`"
   ]
  },
  {
   "cell_type": "code",
   "execution_count": null,
   "metadata": {},
   "outputs": [],
   "source": [
    "table = DB_NAME + '.' + 'Driver'\n",
    "get_table_review(table, True)\n",
    "table = DB_NAME + '.' + 'Car'\n",
    "get_table_review(table, True)\n",
    "table = DB_NAME + '.' + 'Taxi'\n",
    "get_table_review(table, True)"
   ]
  },
  {
   "cell_type": "code",
   "execution_count": null,
   "metadata": {},
   "outputs": [],
   "source": [
    "# Try to select values from tables\n",
    "table = \"Address\"\n",
    "address_rows_amount = count_rows(table) # SQL script function\n",
    "\n",
    "table = \"Taxi\"\n",
    "# Using Taxi table attributes order to create query.\n",
    "# INSERT INTO Taxi (idTaxi, Driver_idDriver, Car_idCar, Current_idAddress, Available, LatUpdate)\n",
    "q = \"SELECT idDriver, idCar, ROUND(RAND() * %s), ROUND(RAND()) FROM Driver, Car\" % (address_rows_amount)\n",
    "\n",
    "result = select_rows(table, q)\n",
    "for row in result[:5]:\n",
    "    print(row)\n",
    "\n"
   ]
  },
  {
   "cell_type": "code",
   "execution_count": null,
   "metadata": {},
   "outputs": [],
   "source": []
  },
  {
   "cell_type": "code",
   "execution_count": null,
   "metadata": {},
   "outputs": [],
   "source": []
  },
  {
   "cell_type": "code",
   "execution_count": null,
   "metadata": {},
   "outputs": [],
   "source": []
  },
  {
   "cell_type": "code",
   "execution_count": null,
   "metadata": {},
   "outputs": [],
   "source": []
  },
  {
   "cell_type": "markdown",
   "metadata": {},
   "source": []
  }
 ],
 "metadata": {
  "kernelspec": {
   "display_name": "Python 3",
   "language": "python",
   "name": "python3"
  },
  "language_info": {
   "codemirror_mode": {
    "name": "ipython",
    "version": 3
   },
   "file_extension": ".py",
   "mimetype": "text/x-python",
   "name": "python",
   "nbconvert_exporter": "python",
   "pygments_lexer": "ipython3",
   "version": "3.6.5"
  }
 },
 "nbformat": 4,
 "nbformat_minor": 2
}
