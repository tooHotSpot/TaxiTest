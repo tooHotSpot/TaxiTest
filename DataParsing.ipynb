{
 "cells": [
  {
   "cell_type": "code",
   "execution_count": 2,
   "metadata": {},
   "outputs": [],
   "source": [
    "import codecs\n",
    "import json\n",
    "# Getting streets ordered list\n",
    "\n",
    "file = \"CrawledStreets.txt\"\n",
    "streets = set()\n",
    "with codecs.open(file, 'r', encoding='utf-8') as f:\n",
    "    for line in f:\n",
    "        streets.add(line.split(' ')[0])\n",
    "\n",
    "# Choose unique\n",
    "all_streets = sorted(list(streets))\n",
    "\n",
    "streets = []\n",
    "for street in all_streets:\n",
    "    if len(street) >= 5:\n",
    "        streets.append(street)\n",
    "\n",
    "with open('Streets.json', 'w') as outfile:\n",
    "    json.dump(streets, outfile)"
   ]
  },
  {
   "cell_type": "code",
   "execution_count": null,
   "metadata": {},
   "outputs": [],
   "source": [
    "list_banks = []\n",
    "\n",
    "with open('PaymentService/list_banks.txt', 'r') as f:\n",
    "    for line in f:\n",
    "        service = line.split(' ')[0]\n",
    "        list_banks.append(service + 'PayService')\n",
    "        \n",
    "with open('PaymentService/banks.json', 'w') as f:\n",
    "    json.dump(list_banks, f)"
   ]
  }
 ],
 "metadata": {
  "kernelspec": {
   "display_name": "Python 3",
   "language": "python",
   "name": "python3"
  },
  "language_info": {
   "codemirror_mode": {
    "name": "ipython",
    "version": 3
   },
   "file_extension": ".py",
   "mimetype": "text/x-python",
   "name": "python",
   "nbconvert_exporter": "python",
   "pygments_lexer": "ipython3",
   "version": "3.6.5"
  }
 },
 "nbformat": 4,
 "nbformat_minor": 2
}
