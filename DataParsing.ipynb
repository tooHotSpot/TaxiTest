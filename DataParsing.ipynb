{
 "cells": [
  {
   "cell_type": "code",
   "execution_count": 2,
   "metadata": {},
   "outputs": [],
   "source": [
    "import os, io, codecs, json, numpy as np, itertools"
   ]
  },
  {
   "cell_type": "code",
   "execution_count": 2,
   "metadata": {},
   "outputs": [
    {
     "name": "stdout",
     "output_type": "stream",
     "text": [
      "['Abdullah', 'Absalyamova', 'Abubekira', 'Abzhalilova', 'Academic', 'Academician', 'Achinskaya', 'Adamyuk', 'Admiral', 'Admiralty', 'Adoratskogo', 'Aeroportovskaya', 'Agachlyk', 'Agricultural', 'Agronomic', 'Agryz', 'Ahmet', 'Aidarova', 'Airat', 'Aircraft']\n"
     ]
    }
   ],
   "source": [
    "file = \"Street/Raw.txt\"\n",
    "streets = set()\n",
    "with codecs.open(file, 'r', encoding='utf-8') as f:\n",
    "    for line in f:\n",
    "        streets.add(line.split(' ')[0])\n",
    "\n",
    "streets = sorted(list(streets))\n",
    "streets = [s for s in streets if len(s) >= 5]\n",
    "print(streets[:20])\n",
    "\n",
    "with open('Street/Street.json', 'w') as outfile:\n",
    "    json.dump(streets, outfile)"
   ]
  },
  {
   "cell_type": "code",
   "execution_count": 3,
   "metadata": {},
   "outputs": [],
   "source": [
    "services = []\n",
    "with open('PaymentService/Bank.txt', 'r') as f:\n",
    "    for line in f:\n",
    "        bank = line[:-1]\n",
    "        services.append(bank + 'PayService')\n",
    "\n",
    "services.sort()\n",
    "with open('PaymentService/Service.json', 'w') as f:\n",
    "    json.dump(services, f)"
   ]
  },
  {
   "cell_type": "code",
   "execution_count": 4,
   "metadata": {},
   "outputs": [],
   "source": [
    "companies = []\n",
    "with open('InsuranceCompany\\Raw.txt', 'r') as f:\n",
    "    for line in f:\n",
    "        if not line[0].isupper():\n",
    "            continue\n",
    "        if line.split(' ').__len__() > 4:\n",
    "            continue\n",
    "        if line.__len__() > 4:\n",
    "            companies.append(line[:-1])\n",
    "\n",
    "companies.sort()\n",
    "with open('InsuranceCompany\\Company.json', 'w') as outfile:\n",
    "    json.dump(companies, outfile)\n"
   ]
  },
  {
   "cell_type": "code",
   "execution_count": 5,
   "metadata": {},
   "outputs": [],
   "source": [
    "cars = []    \n",
    "with open('Car\\Car.txt') as f:\n",
    "    for line in f:\n",
    "        cars.append(line[:-1])\n",
    "\n",
    "cars.sort()\n",
    "with open('Car\\Car.json', 'w') as f:\n",
    "    json.dump(cars, f)"
   ]
  },
  {
   "cell_type": "code",
   "execution_count": 6,
   "metadata": {},
   "outputs": [
    {
     "name": "stdout",
     "output_type": "stream",
     "text": [
      "['Абрамов Алан', 'Абрамов Александр', 'Абрамов Алексей', 'Абрамов Альберт', 'Абрамов Анатолий']\n"
     ]
    }
   ],
   "source": [
    "first_names = []\n",
    "second_names = []\n",
    "\n",
    "with codecs.open('Names/FirstNames.txt', encoding='utf-8', mode='r') as f:\n",
    "    for line in f:\n",
    "        first_names.append(line[:-1])\n",
    "\n",
    "with codecs.open('Names/SecondNames.txt', encoding='utf-8', mode='r') as f:\n",
    "    for line in f:\n",
    "        second_names.append(line[:-1])\n",
    "\n",
    "names = []\n",
    "for second_name in second_names:\n",
    "    for first_name in first_names:\n",
    "        names.append(second_name + ' ' + first_name)\n",
    "\n",
    "names.sort()\n",
    "with open('Names/Names.json', 'w', encoding='utf-8') as f:\n",
    "    json.dump(names, f)\n",
    "\n",
    "with open('Names/Names.json', 'r', encoding='utf-8') as f:\n",
    "    names = json.load(f)\n",
    "    print(names[:5])"
   ]
  }
 ],
 "metadata": {
  "kernelspec": {
   "display_name": "Python 3",
   "language": "python",
   "name": "python3"
  },
  "language_info": {
   "codemirror_mode": {
    "name": "ipython",
    "version": 3
   },
   "file_extension": ".py",
   "mimetype": "text/x-python",
   "name": "python",
   "nbconvert_exporter": "python",
   "pygments_lexer": "ipython3",
   "version": "3.6.5"
  }
 },
 "nbformat": 4,
 "nbformat_minor": 2
}
